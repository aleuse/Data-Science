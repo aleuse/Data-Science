{
 "cells": [
  {
   "attachments": {},
   "cell_type": "markdown",
   "metadata": {},
   "source": [
    "# Estadística Inferencial"
   ]
  },
  {
   "cell_type": "code",
   "execution_count": 51,
   "metadata": {},
   "outputs": [],
   "source": [
    "import pandas as pd\n",
    "import numpy as np\n",
    "import matplotlib.pyplot as plt\n",
    "import seaborn as sns\n",
    "import scipy.stats as st\n",
    "from scipy.stats import f_oneway\n",
    "from scipy.stats import ttest_ind\n",
    "from sklearn.tree import DecisionTreeClassifier\n",
    "from sklearn.model_selection import train_test_split\n",
    "from sklearn.model_selection import KFold\n",
    "from sklearn.model_selection import cross_val_score\n",
    "import random as rd"
   ]
  },
  {
   "attachments": {},
   "cell_type": "markdown",
   "metadata": {},
   "source": [
    "## Fundamentos de estadística inferencial"
   ]
  },
  {
   "attachments": {},
   "cell_type": "markdown",
   "metadata": {},
   "source": [
    "### Estadística inferencial vs. descriptiva"
   ]
  },
  {
   "attachments": {},
   "cell_type": "markdown",
   "metadata": {},
   "source": [
    "La estadística descriptiva se centra en entender cómo se comportan los datos en el presente.\n",
    "\n",
    "La estadística **inferencial** busca **predecir** o deducir **características o resultados** de una población a través de una muestra de esta. \n",
    "\n",
    "Partimos de una población y sacamos una muestra; es a partir de la muestra que nos vamos a hacer preguntas. Utilizamos intervalos de confianza para sacar conclusiones y deducciones; hacemos validación de hipótesis, que son teorías que cuestionaremos y vamos a demostrar. También ayuda a evitar sesgos.\n",
    "\n",
    "Cuando hablamos de inferencia estadística nos referimos a sacar conclusiones que se obtienen a partir de los parámetros de una población de datos y estudiamos el grado de fiabilidad de los resultados del estudio.\n",
    "\n",
    "**Usos en Machine Learning**\n",
    "\n",
    "Tanto en un análisis como en un modelo predictivo, la estadística inferencial servirá para:\n",
    "- Entender la distribución de nuestros datos.\n",
    "- Crear y validar hipótesis.\n",
    "- Hacer experimentos.\n",
    "- Elegir los modelos predictivos adecuados según los datos."
   ]
  },
  {
   "attachments": {},
   "cell_type": "markdown",
   "metadata": {},
   "source": [
    "### Estadísticos principales"
   ]
  },
  {
   "attachments": {},
   "cell_type": "markdown",
   "metadata": {},
   "source": [
    "**Experimento**\n",
    "\n",
    "Es un procedimiento que puede repetirse infinitamente y tiene un conjunto de bien definido de resultados posibles conocido como *espacio muestral*.\n",
    "\n",
    "Un experimento puede ser:\n",
    "- **Aleatorio**: es aquel en el que si lo repetimos con las mismas condiciones iniciales no se pueden garantizar los mismos resultados.\n",
    "- **Determinista**: es aquel en el que si lo repetimos con las mismas condiciones iniciales se garantiza el mismo resultado."
   ]
  },
  {
   "attachments": {},
   "cell_type": "markdown",
   "metadata": {},
   "source": [
    "**Población y muestra**\n",
    "\n",
    "La población es un conjunto grande, general, sobre el cual podemos hacer una extracción o un subconjunto que será la muestra.\n",
    "\n",
    "Cuando hacemos esta extracción de los resultados hay que tener en cuenta que debe ser una muestra representativa, es decir, lo suficientemente grande para ser estadísticamente significativa. [Calculadora de tamaño de muestra](https://www.questionpro.com/es/calculadora-de-muestra.html).\n",
    "Otra cosa a tener en cuenta es tener una representación no sesgada de la población."
   ]
  },
  {
   "attachments": {},
   "cell_type": "markdown",
   "metadata": {},
   "source": [
    "**Evento**\n",
    "\n",
    "Un evento es cada posible resultado de un experimento."
   ]
  },
  {
   "attachments": {},
   "cell_type": "markdown",
   "metadata": {},
   "source": [
    "**Variable**\n",
    "\n",
    "Una variable es una característica que puede tomar diferentes valores. Están las cualitativas, que se refieren a atributos, y las cuantitativas, que son numéricas."
   ]
  },
  {
   "attachments": {},
   "cell_type": "markdown",
   "metadata": {},
   "source": [
    "**Probabilidad**\n",
    "\n",
    "La probabilidad mide qué tan posible es obtener un determinado evento."
   ]
  },
  {
   "attachments": {},
   "cell_type": "markdown",
   "metadata": {},
   "source": [
    "### Poblaciones normales"
   ]
  },
  {
   "attachments": {},
   "cell_type": "markdown",
   "metadata": {},
   "source": [
    "La mayoría de los factores del mundo se rigen bajo una población que sigue una distribución normal.\n",
    "\n",
    "![](destNorm.PNG)"
   ]
  },
  {
   "attachments": {},
   "cell_type": "markdown",
   "metadata": {},
   "source": [
    "### Muestreo"
   ]
  },
  {
   "attachments": {},
   "cell_type": "markdown",
   "metadata": {},
   "source": [
    "Una muestra es una extracción de la población; tenemos que asegurarnos que sean lo suficientemente grandes, o sea, estadísticamente significativa, y que no esté sesgada.\n",
    "\n",
    "**Tipos de muestreo**\n",
    "- **Aleatorio simple**: cada uno de los eventos tiene la misma probabilidad de ocurrir.\n",
    "- **Sistemático**: se seleccionan ciertas unidades al azar y, a continuación, se elige el resto siguiendo intervalos regulares.\n",
    "- **Estratificado**: se seleccionan ciertas unidades por segmentos exclusivos y homogéneos, o sea, una categoría."
   ]
  },
  {
   "attachments": {},
   "cell_type": "markdown",
   "metadata": {},
   "source": [
    "### Teorema del límite central"
   ]
  },
  {
   "attachments": {},
   "cell_type": "markdown",
   "metadata": {},
   "source": [
    "El teorema del límite central es una teoría estadística que establece que, dada una muestra aleatoria lo suficientemente grande de la población, la distribución de las medias seguirá una distribución normal.\n",
    "\n",
    "Es decir, si de una población tomamos varias muestras y de cada una de esas muestras calculamos la media, el conjunto de esas medias va a describir una distribución normal; mientras más muestras mas evidente es esa distribución.\n",
    "\n",
    "Lo importante aquí es entender que no importa el tipo de distribución de esa población, las medias de esas muestras tiendena una distribución normal."
   ]
  },
  {
   "cell_type": "code",
   "execution_count": 4,
   "metadata": {},
   "outputs": [
    {
     "data": {
      "image/png": "[encoded data removed]",
      "text/plain": [
       "<Figure size 640x480 with 1 Axes>"
      ]
     },
     "metadata": {},
     "output_type": "display_data"
    }
   ],
   "source": [
    "#Generamos una muestra de 10000 elementos con media 0 y desviación estándar 1\n",
    "normal_samples = np.random.normal(0, 1, size=10000)\n",
    "\n",
    "#Graficamos nuestros datos\n",
    "fig, ax = plt.subplots()\n",
    "plt.hist(normal_samples, bins=50, density=True)\n",
    "plt.title('Distribución normal', size=14)\n",
    "plt.xlabel('Muestras')\n",
    "plt.ylabel('Densidad')\n",
    "plt.axvline(0, color='#3793ef', linestyle='--')\n",
    "plt.axvline(np.std(normal_samples), color='#3793ef', linestyle='--')\n",
    "plt.axvline(-1*np.std(normal_samples), color='#3793ef', linestyle='--')\n",
    "plt.show()"
   ]
  },
  {
   "attachments": {},
   "cell_type": "markdown",
   "metadata": {},
   "source": [
    "### Funciones de muestreo"
   ]
  },
  {
   "attachments": {},
   "cell_type": "markdown",
   "metadata": {},
   "source": [
    "Dataset a trabajar"
   ]
  },
  {
   "cell_type": "code",
   "execution_count": 5,
   "metadata": {},
   "outputs": [
    {
     "data": {
      "text/html": [
       "<div>\n",
       "<style scoped>\n",
       "    .dataframe tbody tr th:only-of-type {\n",
       "        vertical-align: middle;\n",
       "    }\n",
       "\n",
       "    .dataframe tbody tr th {\n",
       "        vertical-align: top;\n",
       "    }\n",
       "\n",
       "    .dataframe thead th {\n",
       "        text-align: right;\n",
       "    }\n",
       "</style>\n",
       "<table border=\"1\" class=\"dataframe\">\n",
       "  <thead>\n",
       "    <tr style=\"text-align: right;\">\n",
       "      <th></th>\n",
       "      <th>id</th>\n",
       "      <th>geo_point_2d</th>\n",
       "      <th>geo_shape</th>\n",
       "      <th>clave_cat</th>\n",
       "      <th>delegacion</th>\n",
       "      <th>perimetro</th>\n",
       "      <th>tipo</th>\n",
       "      <th>nom_id</th>\n",
       "    </tr>\n",
       "  </thead>\n",
       "  <tbody>\n",
       "    <tr>\n",
       "      <th>0</th>\n",
       "      <td>0</td>\n",
       "      <td>19.424781053,-99.1327537959</td>\n",
       "      <td>{\"type\": \"Polygon\", \"coordinates\": [[[-99.1332...</td>\n",
       "      <td>307_130_11</td>\n",
       "      <td>Cuauhtémoc</td>\n",
       "      <td>B</td>\n",
       "      <td>Mercado</td>\n",
       "      <td>Pino Suárez</td>\n",
       "    </tr>\n",
       "    <tr>\n",
       "      <th>1</th>\n",
       "      <td>1</td>\n",
       "      <td>19.4346139576,-99.1413808393</td>\n",
       "      <td>{\"type\": \"MultiPoint\", \"coordinates\": [[-99.14...</td>\n",
       "      <td>002_008_01</td>\n",
       "      <td>Cuautémoc</td>\n",
       "      <td>A</td>\n",
       "      <td>Museo</td>\n",
       "      <td>Museo Nacional de Arquitectura Palacio de Bell...</td>\n",
       "    </tr>\n",
       "    <tr>\n",
       "      <th>2</th>\n",
       "      <td>2</td>\n",
       "      <td>19.4340695945,-99.1306348409</td>\n",
       "      <td>{\"type\": \"MultiPoint\", \"coordinates\": [[-99.13...</td>\n",
       "      <td>006_002_12</td>\n",
       "      <td>Cuautémoc</td>\n",
       "      <td>A</td>\n",
       "      <td>Museo</td>\n",
       "      <td>Santa Teresa</td>\n",
       "    </tr>\n",
       "    <tr>\n",
       "      <th>3</th>\n",
       "      <td>3</td>\n",
       "      <td>19.42489472,-99.12073393</td>\n",
       "      <td>{\"type\": \"MultiPoint\", \"coordinates\": [[-99.12...</td>\n",
       "      <td>323_102_06</td>\n",
       "      <td>Venustiano Carranza</td>\n",
       "      <td>B</td>\n",
       "      <td>Hotel</td>\n",
       "      <td>Balbuena</td>\n",
       "    </tr>\n",
       "    <tr>\n",
       "      <th>4</th>\n",
       "      <td>4</td>\n",
       "      <td>19.42358238,-99.12451093</td>\n",
       "      <td>{\"type\": \"MultiPoint\", \"coordinates\": [[-99.12...</td>\n",
       "      <td>323_115_12</td>\n",
       "      <td>Venustiano Carranza</td>\n",
       "      <td>B</td>\n",
       "      <td>Hotel</td>\n",
       "      <td>real</td>\n",
       "    </tr>\n",
       "  </tbody>\n",
       "</table>\n",
       "</div>"
      ],
      "text/plain": [
       "   id                  geo_point_2d  \\\n",
       "0   0   19.424781053,-99.1327537959   \n",
       "1   1  19.4346139576,-99.1413808393   \n",
       "2   2  19.4340695945,-99.1306348409   \n",
       "3   3      19.42489472,-99.12073393   \n",
       "4   4      19.42358238,-99.12451093   \n",
       "\n",
       "                                           geo_shape   clave_cat  \\\n",
       "0  {\"type\": \"Polygon\", \"coordinates\": [[[-99.1332...  307_130_11   \n",
       "1  {\"type\": \"MultiPoint\", \"coordinates\": [[-99.14...  002_008_01   \n",
       "2  {\"type\": \"MultiPoint\", \"coordinates\": [[-99.13...  006_002_12   \n",
       "3  {\"type\": \"MultiPoint\", \"coordinates\": [[-99.12...  323_102_06   \n",
       "4  {\"type\": \"MultiPoint\", \"coordinates\": [[-99.12...  323_115_12   \n",
       "\n",
       "            delegacion perimetro     tipo  \\\n",
       "0           Cuauhtémoc         B  Mercado   \n",
       "1            Cuautémoc         A    Museo   \n",
       "2            Cuautémoc         A    Museo   \n",
       "3  Venustiano Carranza         B    Hotel   \n",
       "4  Venustiano Carranza         B    Hotel   \n",
       "\n",
       "                                              nom_id  \n",
       "0                                        Pino Suárez  \n",
       "1  Museo Nacional de Arquitectura Palacio de Bell...  \n",
       "2                                       Santa Teresa  \n",
       "3                                           Balbuena  \n",
       "4                                               real  "
      ]
     },
     "execution_count": 5,
     "metadata": {},
     "output_type": "execute_result"
    }
   ],
   "source": [
    "econdata = pd.read_csv(\"econdata.csv\")\n",
    "econdata.head()"
   ]
  },
  {
   "attachments": {},
   "cell_type": "markdown",
   "metadata": {},
   "source": [
    "#### Muestreo aleatorio simple"
   ]
  },
  {
   "attachments": {},
   "cell_type": "markdown",
   "metadata": {},
   "source": [
    "Importaremos los registros de manera aleatoria a partir de un número de casos sobre la población total para crear una nueva muestra."
   ]
  },
  {
   "cell_type": "code",
   "execution_count": 6,
   "metadata": {},
   "outputs": [
    {
     "data": {
      "text/html": [
       "<div>\n",
       "<style scoped>\n",
       "    .dataframe tbody tr th:only-of-type {\n",
       "        vertical-align: middle;\n",
       "    }\n",
       "\n",
       "    .dataframe tbody tr th {\n",
       "        vertical-align: top;\n",
       "    }\n",
       "\n",
       "    .dataframe thead th {\n",
       "        text-align: right;\n",
       "    }\n",
       "</style>\n",
       "<table border=\"1\" class=\"dataframe\">\n",
       "  <thead>\n",
       "    <tr style=\"text-align: right;\">\n",
       "      <th></th>\n",
       "      <th>id</th>\n",
       "      <th>geo_point_2d</th>\n",
       "      <th>geo_shape</th>\n",
       "      <th>clave_cat</th>\n",
       "      <th>delegacion</th>\n",
       "      <th>perimetro</th>\n",
       "      <th>tipo</th>\n",
       "      <th>nom_id</th>\n",
       "    </tr>\n",
       "  </thead>\n",
       "  <tbody>\n",
       "    <tr>\n",
       "      <th>165</th>\n",
       "      <td>165</td>\n",
       "      <td>19.4248396624,-99.1333096809</td>\n",
       "      <td>{\"type\": \"MultiPoint\", \"coordinates\": [[-99.13...</td>\n",
       "      <td>001_086_01</td>\n",
       "      <td>Cuautémoc</td>\n",
       "      <td>B</td>\n",
       "      <td>Hotel</td>\n",
       "      <td>Latino</td>\n",
       "    </tr>\n",
       "    <tr>\n",
       "      <th>196</th>\n",
       "      <td>196</td>\n",
       "      <td>19.4437017048,-99.1325438818</td>\n",
       "      <td>{\"type\": \"MultiPoint\", \"coordinates\": [[-99.13...</td>\n",
       "      <td>004_043_06</td>\n",
       "      <td>Cuautémoc</td>\n",
       "      <td>B</td>\n",
       "      <td>Hotel</td>\n",
       "      <td>Boston</td>\n",
       "    </tr>\n",
       "    <tr>\n",
       "      <th>94</th>\n",
       "      <td>94</td>\n",
       "      <td>19.4338001466,-99.1463273233</td>\n",
       "      <td>{\"type\": \"MultiPoint\", \"coordinates\": [[-99.14...</td>\n",
       "      <td>002_016_02</td>\n",
       "      <td>Cuautémoc</td>\n",
       "      <td>B</td>\n",
       "      <td>Museo</td>\n",
       "      <td>Arte Popular</td>\n",
       "    </tr>\n",
       "    <tr>\n",
       "      <th>144</th>\n",
       "      <td>144</td>\n",
       "      <td>19.43846278,-99.14185407</td>\n",
       "      <td>{\"type\": \"MultiPoint\", \"coordinates\": [[-99.14...</td>\n",
       "      <td>003_097_17</td>\n",
       "      <td>Cuautémoc</td>\n",
       "      <td>A</td>\n",
       "      <td>Hotel</td>\n",
       "      <td>Covadonga</td>\n",
       "    </tr>\n",
       "    <tr>\n",
       "      <th>6</th>\n",
       "      <td>6</td>\n",
       "      <td>19.43553422,-99.12324801</td>\n",
       "      <td>{\"type\": \"MultiPoint\", \"coordinates\": [[-99.12...</td>\n",
       "      <td>318_116_11</td>\n",
       "      <td>Venustiano Carranza</td>\n",
       "      <td>B</td>\n",
       "      <td>Hotel</td>\n",
       "      <td>San Antonio Tomatlan</td>\n",
       "    </tr>\n",
       "    <tr>\n",
       "      <th>208</th>\n",
       "      <td>208</td>\n",
       "      <td>19.423857491,-99.1225572301</td>\n",
       "      <td>{\"type\": \"MultiPoint\", \"coordinates\": [[-99.12...</td>\n",
       "      <td>323_108_11</td>\n",
       "      <td>Venustiano Carranza</td>\n",
       "      <td>B</td>\n",
       "      <td>Hotel</td>\n",
       "      <td>Juárez</td>\n",
       "    </tr>\n",
       "    <tr>\n",
       "      <th>220</th>\n",
       "      <td>220</td>\n",
       "      <td>19.4331382067,-99.125997696</td>\n",
       "      <td>{\"type\": \"MultiPoint\", \"coordinates\": [[-99.12...</td>\n",
       "      <td>006_008_08</td>\n",
       "      <td>Cuautémoc</td>\n",
       "      <td>A</td>\n",
       "      <td>Hotel</td>\n",
       "      <td>México Nuevo</td>\n",
       "    </tr>\n",
       "    <tr>\n",
       "      <th>135</th>\n",
       "      <td>135</td>\n",
       "      <td>19.4300009578,-99.1430773295</td>\n",
       "      <td>{\"type\": \"Polygon\", \"coordinates\": [[[-99.1431...</td>\n",
       "      <td>002_045_01</td>\n",
       "      <td>Cuauhtémoc</td>\n",
       "      <td>B</td>\n",
       "      <td>Mercado</td>\n",
       "      <td>Centro Artesanal \"San Juan\"</td>\n",
       "    </tr>\n",
       "  </tbody>\n",
       "</table>\n",
       "</div>"
      ],
      "text/plain": [
       "      id                  geo_point_2d  \\\n",
       "165  165  19.4248396624,-99.1333096809   \n",
       "196  196  19.4437017048,-99.1325438818   \n",
       "94    94  19.4338001466,-99.1463273233   \n",
       "144  144      19.43846278,-99.14185407   \n",
       "6      6      19.43553422,-99.12324801   \n",
       "208  208   19.423857491,-99.1225572301   \n",
       "220  220   19.4331382067,-99.125997696   \n",
       "135  135  19.4300009578,-99.1430773295   \n",
       "\n",
       "                                             geo_shape   clave_cat  \\\n",
       "165  {\"type\": \"MultiPoint\", \"coordinates\": [[-99.13...  001_086_01   \n",
       "196  {\"type\": \"MultiPoint\", \"coordinates\": [[-99.13...  004_043_06   \n",
       "94   {\"type\": \"MultiPoint\", \"coordinates\": [[-99.14...  002_016_02   \n",
       "144  {\"type\": \"MultiPoint\", \"coordinates\": [[-99.14...  003_097_17   \n",
       "6    {\"type\": \"MultiPoint\", \"coordinates\": [[-99.12...  318_116_11   \n",
       "208  {\"type\": \"MultiPoint\", \"coordinates\": [[-99.12...  323_108_11   \n",
       "220  {\"type\": \"MultiPoint\", \"coordinates\": [[-99.12...  006_008_08   \n",
       "135  {\"type\": \"Polygon\", \"coordinates\": [[[-99.1431...  002_045_01   \n",
       "\n",
       "              delegacion perimetro     tipo                       nom_id  \n",
       "165            Cuautémoc         B    Hotel                       Latino  \n",
       "196            Cuautémoc         B    Hotel                       Boston  \n",
       "94             Cuautémoc         B    Museo                 Arte Popular  \n",
       "144            Cuautémoc         A    Hotel                    Covadonga  \n",
       "6    Venustiano Carranza         B    Hotel         San Antonio Tomatlan  \n",
       "208  Venustiano Carranza         B    Hotel                       Juárez  \n",
       "220            Cuautémoc         A    Hotel                 México Nuevo  \n",
       "135           Cuauhtémoc         B  Mercado  Centro Artesanal \"San Juan\"  "
      ]
     },
     "execution_count": 6,
     "metadata": {},
     "output_type": "execute_result"
    }
   ],
   "source": [
    "# Importamos 8 registros de manera aleatoria\n",
    "aleatorio8 = econdata.sample(n = 8)\n",
    "aleatorio8"
   ]
  },
  {
   "attachments": {},
   "cell_type": "markdown",
   "metadata": {},
   "source": [
    "También podemos seleccionar aleatoriamente un porcentaje de la población"
   ]
  },
  {
   "cell_type": "code",
   "execution_count": 7,
   "metadata": {},
   "outputs": [
    {
     "name": "stdout",
     "output_type": "stream",
     "text": [
      "(58, 8)\n"
     ]
    },
    {
     "data": {
      "text/html": [
       "<div>\n",
       "<style scoped>\n",
       "    .dataframe tbody tr th:only-of-type {\n",
       "        vertical-align: middle;\n",
       "    }\n",
       "\n",
       "    .dataframe tbody tr th {\n",
       "        vertical-align: top;\n",
       "    }\n",
       "\n",
       "    .dataframe thead th {\n",
       "        text-align: right;\n",
       "    }\n",
       "</style>\n",
       "<table border=\"1\" class=\"dataframe\">\n",
       "  <thead>\n",
       "    <tr style=\"text-align: right;\">\n",
       "      <th></th>\n",
       "      <th>id</th>\n",
       "      <th>geo_point_2d</th>\n",
       "      <th>geo_shape</th>\n",
       "      <th>clave_cat</th>\n",
       "      <th>delegacion</th>\n",
       "      <th>perimetro</th>\n",
       "      <th>tipo</th>\n",
       "      <th>nom_id</th>\n",
       "    </tr>\n",
       "  </thead>\n",
       "  <tbody>\n",
       "    <tr>\n",
       "      <th>148</th>\n",
       "      <td>148</td>\n",
       "      <td>19.4388349207,-99.1502578596</td>\n",
       "      <td>{\"type\": \"MultiPoint\", \"coordinates\": [[-99.15...</td>\n",
       "      <td>012_147_13</td>\n",
       "      <td>Cuautémoc</td>\n",
       "      <td>B</td>\n",
       "      <td>Hotel</td>\n",
       "      <td>Miño, S.A. DE C.V.</td>\n",
       "    </tr>\n",
       "    <tr>\n",
       "      <th>208</th>\n",
       "      <td>208</td>\n",
       "      <td>19.423857491,-99.1225572301</td>\n",
       "      <td>{\"type\": \"MultiPoint\", \"coordinates\": [[-99.12...</td>\n",
       "      <td>323_108_11</td>\n",
       "      <td>Venustiano Carranza</td>\n",
       "      <td>B</td>\n",
       "      <td>Hotel</td>\n",
       "      <td>Juárez</td>\n",
       "    </tr>\n",
       "    <tr>\n",
       "      <th>41</th>\n",
       "      <td>41</td>\n",
       "      <td>19.43204901,-99.13440135</td>\n",
       "      <td>{\"type\": \"MultiPoint\", \"coordinates\": [[-99.13...</td>\n",
       "      <td>001_024_09</td>\n",
       "      <td>Cuautémoc</td>\n",
       "      <td>A</td>\n",
       "      <td>Hotel</td>\n",
       "      <td>Gran Hotel de la Ciudad de México</td>\n",
       "    </tr>\n",
       "    <tr>\n",
       "      <th>73</th>\n",
       "      <td>73</td>\n",
       "      <td>19.4218384283,-99.1267852296</td>\n",
       "      <td>{\"type\": \"MultiPoint\", \"coordinates\": [[-99.12...</td>\n",
       "      <td>007_005_07</td>\n",
       "      <td>Cuautémoc</td>\n",
       "      <td>B</td>\n",
       "      <td>Hotel</td>\n",
       "      <td>Jaen</td>\n",
       "    </tr>\n",
       "    <tr>\n",
       "      <th>118</th>\n",
       "      <td>118</td>\n",
       "      <td>19.44371481,-99.14271352</td>\n",
       "      <td>{\"type\": \"MultiPoint\", \"coordinates\": [[-99.14...</td>\n",
       "      <td>003_050_07</td>\n",
       "      <td>Cuautémoc</td>\n",
       "      <td>B</td>\n",
       "      <td>Hotel</td>\n",
       "      <td>Manolete</td>\n",
       "    </tr>\n",
       "  </tbody>\n",
       "</table>\n",
       "</div>"
      ],
      "text/plain": [
       "      id                  geo_point_2d  \\\n",
       "148  148  19.4388349207,-99.1502578596   \n",
       "208  208   19.423857491,-99.1225572301   \n",
       "41    41      19.43204901,-99.13440135   \n",
       "73    73  19.4218384283,-99.1267852296   \n",
       "118  118      19.44371481,-99.14271352   \n",
       "\n",
       "                                             geo_shape   clave_cat  \\\n",
       "148  {\"type\": \"MultiPoint\", \"coordinates\": [[-99.15...  012_147_13   \n",
       "208  {\"type\": \"MultiPoint\", \"coordinates\": [[-99.12...  323_108_11   \n",
       "41   {\"type\": \"MultiPoint\", \"coordinates\": [[-99.13...  001_024_09   \n",
       "73   {\"type\": \"MultiPoint\", \"coordinates\": [[-99.12...  007_005_07   \n",
       "118  {\"type\": \"MultiPoint\", \"coordinates\": [[-99.14...  003_050_07   \n",
       "\n",
       "              delegacion perimetro   tipo                             nom_id  \n",
       "148            Cuautémoc         B  Hotel                 Miño, S.A. DE C.V.  \n",
       "208  Venustiano Carranza         B  Hotel                             Juárez  \n",
       "41             Cuautémoc         A  Hotel  Gran Hotel de la Ciudad de México  \n",
       "73             Cuautémoc         B  Hotel                               Jaen  \n",
       "118            Cuautémoc         B  Hotel                           Manolete  "
      ]
     },
     "execution_count": 7,
     "metadata": {},
     "output_type": "execute_result"
    }
   ],
   "source": [
    "# Selección aleatoria del 25% de los datos\n",
    "prop25 = econdata.sample(frac = 0.25)\n",
    "print(prop25.shape)\n",
    "prop25.head()"
   ]
  },
  {
   "attachments": {},
   "cell_type": "markdown",
   "metadata": {},
   "source": [
    "#### Muestreo sistemático"
   ]
  },
  {
   "attachments": {},
   "cell_type": "markdown",
   "metadata": {},
   "source": [
    "El muestreo sistemático sirve para hacer extracciones de la población a través de una norma, un intervalo regular de cómo será dicha extracción."
   ]
  },
  {
   "cell_type": "code",
   "execution_count": 8,
   "metadata": {},
   "outputs": [
    {
     "name": "stdout",
     "output_type": "stream",
     "text": [
      "(77, 8)\n"
     ]
    },
    {
     "data": {
      "text/html": [
       "<div>\n",
       "<style scoped>\n",
       "    .dataframe tbody tr th:only-of-type {\n",
       "        vertical-align: middle;\n",
       "    }\n",
       "\n",
       "    .dataframe tbody tr th {\n",
       "        vertical-align: top;\n",
       "    }\n",
       "\n",
       "    .dataframe thead th {\n",
       "        text-align: right;\n",
       "    }\n",
       "</style>\n",
       "<table border=\"1\" class=\"dataframe\">\n",
       "  <thead>\n",
       "    <tr style=\"text-align: right;\">\n",
       "      <th></th>\n",
       "      <th>id</th>\n",
       "      <th>geo_point_2d</th>\n",
       "      <th>geo_shape</th>\n",
       "      <th>clave_cat</th>\n",
       "      <th>delegacion</th>\n",
       "      <th>perimetro</th>\n",
       "      <th>tipo</th>\n",
       "      <th>nom_id</th>\n",
       "    </tr>\n",
       "  </thead>\n",
       "  <tbody>\n",
       "    <tr>\n",
       "      <th>0</th>\n",
       "      <td>0</td>\n",
       "      <td>19.424781053,-99.1327537959</td>\n",
       "      <td>{\"type\": \"Polygon\", \"coordinates\": [[[-99.1332...</td>\n",
       "      <td>307_130_11</td>\n",
       "      <td>Cuauhtémoc</td>\n",
       "      <td>B</td>\n",
       "      <td>Mercado</td>\n",
       "      <td>Pino Suárez</td>\n",
       "    </tr>\n",
       "    <tr>\n",
       "      <th>3</th>\n",
       "      <td>3</td>\n",
       "      <td>19.42489472,-99.12073393</td>\n",
       "      <td>{\"type\": \"MultiPoint\", \"coordinates\": [[-99.12...</td>\n",
       "      <td>323_102_06</td>\n",
       "      <td>Venustiano Carranza</td>\n",
       "      <td>B</td>\n",
       "      <td>Hotel</td>\n",
       "      <td>Balbuena</td>\n",
       "    </tr>\n",
       "    <tr>\n",
       "      <th>6</th>\n",
       "      <td>6</td>\n",
       "      <td>19.43553422,-99.12324801</td>\n",
       "      <td>{\"type\": \"MultiPoint\", \"coordinates\": [[-99.12...</td>\n",
       "      <td>318_116_11</td>\n",
       "      <td>Venustiano Carranza</td>\n",
       "      <td>B</td>\n",
       "      <td>Hotel</td>\n",
       "      <td>San Antonio Tomatlan</td>\n",
       "    </tr>\n",
       "    <tr>\n",
       "      <th>9</th>\n",
       "      <td>9</td>\n",
       "      <td>19.4407152937,-99.1498060057</td>\n",
       "      <td>{\"type\": \"MultiPoint\", \"coordinates\": [[-99.14...</td>\n",
       "      <td>012_146_22</td>\n",
       "      <td>Cuautémoc</td>\n",
       "      <td>B</td>\n",
       "      <td>Hotel</td>\n",
       "      <td>Detroit</td>\n",
       "    </tr>\n",
       "    <tr>\n",
       "      <th>12</th>\n",
       "      <td>12</td>\n",
       "      <td>19.43990186,-99.14813347</td>\n",
       "      <td>{\"type\": \"MultiPoint\", \"coordinates\": [[-99.14...</td>\n",
       "      <td>003_079_16</td>\n",
       "      <td>Cuautémoc</td>\n",
       "      <td>B</td>\n",
       "      <td>Hotel</td>\n",
       "      <td>La Paz</td>\n",
       "    </tr>\n",
       "  </tbody>\n",
       "</table>\n",
       "</div>"
      ],
      "text/plain": [
       "    id                  geo_point_2d  \\\n",
       "0    0   19.424781053,-99.1327537959   \n",
       "3    3      19.42489472,-99.12073393   \n",
       "6    6      19.43553422,-99.12324801   \n",
       "9    9  19.4407152937,-99.1498060057   \n",
       "12  12      19.43990186,-99.14813347   \n",
       "\n",
       "                                            geo_shape   clave_cat  \\\n",
       "0   {\"type\": \"Polygon\", \"coordinates\": [[[-99.1332...  307_130_11   \n",
       "3   {\"type\": \"MultiPoint\", \"coordinates\": [[-99.12...  323_102_06   \n",
       "6   {\"type\": \"MultiPoint\", \"coordinates\": [[-99.12...  318_116_11   \n",
       "9   {\"type\": \"MultiPoint\", \"coordinates\": [[-99.14...  012_146_22   \n",
       "12  {\"type\": \"MultiPoint\", \"coordinates\": [[-99.14...  003_079_16   \n",
       "\n",
       "             delegacion perimetro     tipo                nom_id  \n",
       "0            Cuauhtémoc         B  Mercado           Pino Suárez  \n",
       "3   Venustiano Carranza         B    Hotel              Balbuena  \n",
       "6   Venustiano Carranza         B    Hotel  San Antonio Tomatlan  \n",
       "9             Cuautémoc         B    Hotel               Detroit  \n",
       "12            Cuautémoc         B    Hotel                La Paz  "
      ]
     },
     "execution_count": 8,
     "metadata": {},
     "output_type": "execute_result"
    }
   ],
   "source": [
    "# Definimos una función para este muestreo sistemático; el step es esa norma a seguir\n",
    "def systematicSampling(data, step):\n",
    "    # Definimos los índices de los datos que se tomarán; inicia en 0 y va hasta el tamaño del dataset que se pase haciendo un\n",
    "    # paso igual a la norma que se especifique\n",
    "    indexes = np.arange(0, len(data), step = step)\n",
    "    # El muestreo serán los valores correspondientes a los índices\n",
    "    systematicSample = data.iloc[indexes]\n",
    "    return systematicSample\n",
    "\n",
    "# Hacemos un muestreo con un paso de 3\n",
    "systematicSample = systematicSampling(econdata, 3)\n",
    "print(systematicSample.shape)\n",
    "systematicSample.head()"
   ]
  },
  {
   "attachments": {},
   "cell_type": "markdown",
   "metadata": {},
   "source": [
    "#### Muestreo estratificado"
   ]
  },
  {
   "attachments": {},
   "cell_type": "markdown",
   "metadata": {},
   "source": [
    "El muestreo estratificado consiste en crear unidades homogéneas exclusivas y a partir de estas crear muestras aleatorias. \n",
    "\n",
    "Los pasos a seguir son:\n",
    "1. Separar los datos por categorías (valores estratificados)\n",
    "2. Definir las categorías que queremos en la muestra y su proporción.\n",
    "3. Tomar tantos datos de cada categoría como sean necesarios para llegar a la proporción deseada.\n",
    "4. Juntar las muestras de cada categoría para generar un muestreo final."
   ]
  },
  {
   "attachments": {},
   "cell_type": "markdown",
   "metadata": {},
   "source": [
    "En este caso crearemos dichas categorías a partir de la delegación y el tipo; esta información la almacenaremos en una nueva variable llamada *estratificado*."
   ]
  },
  {
   "cell_type": "code",
   "execution_count": 9,
   "metadata": {},
   "outputs": [
    {
     "data": {
      "text/plain": [
       "Cuautémoc,Hotel                0.643478\n",
       "Cuautémoc,Museo                0.156522\n",
       "Venustiano Carranza,Hotel      0.078261\n",
       "Cuauhtémoc,Mercado             0.073913\n",
       "Venustiano Carranza,Mercado    0.047826\n",
       "Name: estratificado, dtype: float64"
      ]
     },
     "execution_count": 9,
     "metadata": {},
     "output_type": "execute_result"
    }
   ],
   "source": [
    "econdata[\"estratificado\"] = econdata[\"delegacion\"] + \",\" + econdata[\"tipo\"]\n",
    "\n",
    "# Visualizamos la proporción de cada valor de nuestra nueva variable estratificada\n",
    "(econdata[\"estratificado\"].value_counts() / len(econdata)).sort_values(ascending = False)"
   ]
  },
  {
   "attachments": {},
   "cell_type": "markdown",
   "metadata": {},
   "source": [
    "Ahora, definimos las siguientes proporciones para nuestras muestras:\n",
    "- Cuautémoc, Hotel: 0.5,\n",
    "- Cuautémoc, Museo: 0.2,\n",
    "- Venustiano Carranza, Hotel: 0.1,\n",
    "- Cuauhtémoc, Mercado: 0.1,\n",
    "- Venustiano Carranza, Mercado: 0.1\n",
    "\n",
    "Para crear dicha proporción a partir de los datos originales utilizaremos la siguiente función que encuentra el número de muestras necesario de cada categoría, hace un muestreo simple dentro de dicha categoría y luego junta esas muestras."
   ]
  },
  {
   "cell_type": "code",
   "execution_count": 10,
   "metadata": {},
   "outputs": [],
   "source": [
    "\n",
    "# Definimos la función para realizar el muestre estratificado\n",
    "# randomState es una semilla para reproducir el mismo muestreo cuando sea necesario\n",
    "def muestreoEstratificado(data, nombresColumnasEstratificadas, valoresEstratificados, proporcionEstratificacion, randomState = None):\n",
    "    # Creamos un df vacío con los nombres de las columnas del dataset que se pasa\n",
    "    dfEstratificado = pd.DataFrame(columns = data.columns)\n",
    "    \n",
    "    posicion = -1\n",
    "    # Iteramos sobre los valores estratificados\n",
    "    for i in range(len(valoresEstratificados)):\n",
    "        posicion += 1\n",
    "        \n",
    "        # Si es la última iteración entonces que calcule que el número de valores de salida sea igual al de entrada\n",
    "        if posicion == len(valoresEstratificados) - 1:\n",
    "            # \n",
    "            ratioLongitud = len(data) - len(dfEstratificado)\n",
    "        else:\n",
    "            # Sacar el ratio en función de la proporción seleccionada\n",
    "            ratioLongitud = int(len(data) * proporcionEstratificacion[i])\n",
    "        \n",
    "        # Filtramos los datos de origen en función de los valores seleccionados en la estratificación\n",
    "        dfFiltrado = data[data[nombresColumnasEstratificadas] == valoresEstratificados[i]]\n",
    "        # Creamos la muestra de los datos filtrados usando el ratio que calculamos\n",
    "        dfTemp = dfFiltrado.sample(replace = True, n = ratioLongitud, random_state = randomState)\n",
    "        # Creamos el dataframe estratificado uniéndolo con el temporal\n",
    "        dfEstratificado = pd.concat([dfEstratificado, dfTemp])\n",
    "        \n",
    "    return dfEstratificado"
   ]
  },
  {
   "attachments": {},
   "cell_type": "markdown",
   "metadata": {},
   "source": [
    "Ahora creamos el muestreo"
   ]
  },
  {
   "cell_type": "code",
   "execution_count": 11,
   "metadata": {},
   "outputs": [
    {
     "name": "stdout",
     "output_type": "stream",
     "text": [
      "(230, 9)\n"
     ]
    },
    {
     "data": {
      "text/html": [
       "<div>\n",
       "<style scoped>\n",
       "    .dataframe tbody tr th:only-of-type {\n",
       "        vertical-align: middle;\n",
       "    }\n",
       "\n",
       "    .dataframe tbody tr th {\n",
       "        vertical-align: top;\n",
       "    }\n",
       "\n",
       "    .dataframe thead th {\n",
       "        text-align: right;\n",
       "    }\n",
       "</style>\n",
       "<table border=\"1\" class=\"dataframe\">\n",
       "  <thead>\n",
       "    <tr style=\"text-align: right;\">\n",
       "      <th></th>\n",
       "      <th>id</th>\n",
       "      <th>geo_point_2d</th>\n",
       "      <th>geo_shape</th>\n",
       "      <th>clave_cat</th>\n",
       "      <th>delegacion</th>\n",
       "      <th>perimetro</th>\n",
       "      <th>tipo</th>\n",
       "      <th>nom_id</th>\n",
       "      <th>estratificado</th>\n",
       "    </tr>\n",
       "  </thead>\n",
       "  <tbody>\n",
       "    <tr>\n",
       "      <th>164</th>\n",
       "      <td>164</td>\n",
       "      <td>19.4388741511,-99.1413308257</td>\n",
       "      <td>{\"type\": \"MultiPoint\", \"coordinates\": [[-99.14...</td>\n",
       "      <td>003_113_03</td>\n",
       "      <td>Cuautémoc</td>\n",
       "      <td>B</td>\n",
       "      <td>Hotel</td>\n",
       "      <td>Dos Naciones</td>\n",
       "      <td>Cuautémoc,Hotel</td>\n",
       "    </tr>\n",
       "    <tr>\n",
       "      <th>142</th>\n",
       "      <td>142</td>\n",
       "      <td>19.4263681354,-99.1327278126</td>\n",
       "      <td>{\"type\": \"MultiPoint\", \"coordinates\": [[-99.13...</td>\n",
       "      <td>006_127_14</td>\n",
       "      <td>Cuautémoc</td>\n",
       "      <td>A</td>\n",
       "      <td>Hotel</td>\n",
       "      <td>Ambar</td>\n",
       "      <td>Cuautémoc,Hotel</td>\n",
       "    </tr>\n",
       "    <tr>\n",
       "      <th>27</th>\n",
       "      <td>27</td>\n",
       "      <td>19.4348360773,-99.1463945583</td>\n",
       "      <td>{\"type\": \"MultiPoint\", \"coordinates\": [[-99.14...</td>\n",
       "      <td>002_016_01</td>\n",
       "      <td>Cuautémoc</td>\n",
       "      <td>B</td>\n",
       "      <td>Hotel</td>\n",
       "      <td>Hilton Centro Histórico</td>\n",
       "      <td>Cuautémoc,Hotel</td>\n",
       "    </tr>\n",
       "    <tr>\n",
       "      <th>168</th>\n",
       "      <td>168</td>\n",
       "      <td>19.4349726565,-99.147766133</td>\n",
       "      <td>{\"type\": \"MultiPoint\", \"coordinates\": [[-99.14...</td>\n",
       "      <td>002_014_23</td>\n",
       "      <td>Cuautémoc</td>\n",
       "      <td>B</td>\n",
       "      <td>Hotel</td>\n",
       "      <td>One Alameda</td>\n",
       "      <td>Cuautémoc,Hotel</td>\n",
       "    </tr>\n",
       "    <tr>\n",
       "      <th>113</th>\n",
       "      <td>113</td>\n",
       "      <td>19.43374405,-99.13550135</td>\n",
       "      <td>{\"type\": \"MultiPoint\", \"coordinates\": [[-99.13...</td>\n",
       "      <td>001_012_13</td>\n",
       "      <td>Cuautémoc</td>\n",
       "      <td>A</td>\n",
       "      <td>Hotel</td>\n",
       "      <td>San Antonio</td>\n",
       "      <td>Cuautémoc,Hotel</td>\n",
       "    </tr>\n",
       "  </tbody>\n",
       "</table>\n",
       "</div>"
      ],
      "text/plain": [
       "      id                  geo_point_2d  \\\n",
       "164  164  19.4388741511,-99.1413308257   \n",
       "142  142  19.4263681354,-99.1327278126   \n",
       "27    27  19.4348360773,-99.1463945583   \n",
       "168  168   19.4349726565,-99.147766133   \n",
       "113  113      19.43374405,-99.13550135   \n",
       "\n",
       "                                             geo_shape   clave_cat delegacion  \\\n",
       "164  {\"type\": \"MultiPoint\", \"coordinates\": [[-99.14...  003_113_03  Cuautémoc   \n",
       "142  {\"type\": \"MultiPoint\", \"coordinates\": [[-99.13...  006_127_14  Cuautémoc   \n",
       "27   {\"type\": \"MultiPoint\", \"coordinates\": [[-99.14...  002_016_01  Cuautémoc   \n",
       "168  {\"type\": \"MultiPoint\", \"coordinates\": [[-99.14...  002_014_23  Cuautémoc   \n",
       "113  {\"type\": \"MultiPoint\", \"coordinates\": [[-99.13...  001_012_13  Cuautémoc   \n",
       "\n",
       "    perimetro   tipo                   nom_id    estratificado  \n",
       "164         B  Hotel             Dos Naciones  Cuautémoc,Hotel  \n",
       "142         A  Hotel                    Ambar  Cuautémoc,Hotel  \n",
       "27          B  Hotel  Hilton Centro Histórico  Cuautémoc,Hotel  \n",
       "168         B  Hotel              One Alameda  Cuautémoc,Hotel  \n",
       "113         A  Hotel              San Antonio  Cuautémoc,Hotel  "
      ]
     },
     "execution_count": 11,
     "metadata": {},
     "output_type": "execute_result"
    }
   ],
   "source": [
    "# Especificamos los valores estratificados\n",
    "valoresEstratificados = ['Cuautémoc,Hotel', 'Cuautémoc,Museo', 'Venustiano Carranza,Hotel', 'Cuauhtémoc,Mercado', 'Venustiano Carranza,Mercado']\n",
    "# Especificamos las proporciones\n",
    "proporcionEstratificados = [0.5, 0.2, 0.1, 0.1, 0.1]\n",
    "# Realizamos el muestreo\n",
    "muestraEstratificada = muestreoEstratificado(econdata, \"estratificado\", valoresEstratificados, proporcionEstratificados, randomState = 42)\n",
    "print(muestraEstratificada.shape)\n",
    "muestraEstratificada.head()"
   ]
  },
  {
   "attachments": {},
   "cell_type": "markdown",
   "metadata": {},
   "source": [
    "Podemos ver la proporción final con el siguiente código"
   ]
  },
  {
   "cell_type": "code",
   "execution_count": 12,
   "metadata": {},
   "outputs": [
    {
     "data": {
      "text/plain": [
       "Cuautémoc,Hotel                0.5\n",
       "Cuautémoc,Museo                0.2\n",
       "Venustiano Carranza,Hotel      0.1\n",
       "Cuauhtémoc,Mercado             0.1\n",
       "Venustiano Carranza,Mercado    0.1\n",
       "Name: estratificado, dtype: float64"
      ]
     },
     "execution_count": 12,
     "metadata": {},
     "output_type": "execute_result"
    }
   ],
   "source": [
    "(muestraEstratificada[\"estratificado\"].value_counts() / len(muestraEstratificada)).sort_values(ascending = False)"
   ]
  },
  {
   "attachments": {},
   "cell_type": "markdown",
   "metadata": {},
   "source": [
    "## Estadísticos y cálculos"
   ]
  },
  {
   "attachments": {},
   "cell_type": "markdown",
   "metadata": {},
   "source": [
    "### Media, moda y mediana"
   ]
  },
  {
   "attachments": {},
   "cell_type": "markdown",
   "metadata": {},
   "source": [
    "- Media: el valor que representa un conjunto de valores.\n",
    "- Moda: el valor que más se repite.\n",
    "- Mediana: el valor del centro (una vez ordenado los datos)."
   ]
  },
  {
   "attachments": {},
   "cell_type": "markdown",
   "metadata": {},
   "source": [
    "### Media muestral"
   ]
  },
  {
   "attachments": {},
   "cell_type": "markdown",
   "metadata": {},
   "source": [
    "La media muestral es la media aritmética, el promedio de las observaciones; la media muestral es diferente a la media poblacional al ser la muestra una extracción de la población."
   ]
  },
  {
   "attachments": {},
   "cell_type": "markdown",
   "metadata": {},
   "source": [
    "### Varianza y desviación estándar muestral"
   ]
  },
  {
   "attachments": {},
   "cell_type": "markdown",
   "metadata": {},
   "source": [
    "La varianza indica qué tan dispersos están los datos respecto a la media pero sus unidades están al cuadrado así que para quedar en las mismas unidades utilizamos la desviación estándar, que es la raíz cuadrada de la varianza.\n",
    "\n",
    "![](formulas.jpg)"
   ]
  },
  {
   "attachments": {},
   "cell_type": "markdown",
   "metadata": {},
   "source": [
    "Cargamos el dataset"
   ]
  },
  {
   "cell_type": "code",
   "execution_count": 13,
   "metadata": {},
   "outputs": [
    {
     "data": {
      "text/html": [
       "<div>\n",
       "<style scoped>\n",
       "    .dataframe tbody tr th:only-of-type {\n",
       "        vertical-align: middle;\n",
       "    }\n",
       "\n",
       "    .dataframe tbody tr th {\n",
       "        vertical-align: top;\n",
       "    }\n",
       "\n",
       "    .dataframe thead th {\n",
       "        text-align: right;\n",
       "    }\n",
       "</style>\n",
       "<table border=\"1\" class=\"dataframe\">\n",
       "  <thead>\n",
       "    <tr style=\"text-align: right;\">\n",
       "      <th></th>\n",
       "      <th>sepal_length</th>\n",
       "      <th>sepal_width</th>\n",
       "      <th>petal_length</th>\n",
       "      <th>petal_width</th>\n",
       "      <th>species</th>\n",
       "    </tr>\n",
       "  </thead>\n",
       "  <tbody>\n",
       "    <tr>\n",
       "      <th>0</th>\n",
       "      <td>5.1</td>\n",
       "      <td>3.5</td>\n",
       "      <td>1.4</td>\n",
       "      <td>0.2</td>\n",
       "      <td>setosa</td>\n",
       "    </tr>\n",
       "    <tr>\n",
       "      <th>1</th>\n",
       "      <td>4.9</td>\n",
       "      <td>3.0</td>\n",
       "      <td>1.4</td>\n",
       "      <td>0.2</td>\n",
       "      <td>setosa</td>\n",
       "    </tr>\n",
       "    <tr>\n",
       "      <th>2</th>\n",
       "      <td>4.7</td>\n",
       "      <td>3.2</td>\n",
       "      <td>1.3</td>\n",
       "      <td>0.2</td>\n",
       "      <td>setosa</td>\n",
       "    </tr>\n",
       "    <tr>\n",
       "      <th>3</th>\n",
       "      <td>4.6</td>\n",
       "      <td>3.1</td>\n",
       "      <td>1.5</td>\n",
       "      <td>0.2</td>\n",
       "      <td>setosa</td>\n",
       "    </tr>\n",
       "    <tr>\n",
       "      <th>4</th>\n",
       "      <td>5.0</td>\n",
       "      <td>3.6</td>\n",
       "      <td>1.4</td>\n",
       "      <td>0.2</td>\n",
       "      <td>setosa</td>\n",
       "    </tr>\n",
       "  </tbody>\n",
       "</table>\n",
       "</div>"
      ],
      "text/plain": [
       "   sepal_length  sepal_width  petal_length  petal_width species\n",
       "0           5.1          3.5           1.4          0.2  setosa\n",
       "1           4.9          3.0           1.4          0.2  setosa\n",
       "2           4.7          3.2           1.3          0.2  setosa\n",
       "3           4.6          3.1           1.5          0.2  setosa\n",
       "4           5.0          3.6           1.4          0.2  setosa"
      ]
     },
     "execution_count": 13,
     "metadata": {},
     "output_type": "execute_result"
    }
   ],
   "source": [
    "iris = sns.load_dataset(\"iris\")\n",
    "iris.head()"
   ]
  },
  {
   "attachments": {},
   "cell_type": "markdown",
   "metadata": {},
   "source": [
    "Queremos analizar la variable *sepal_length*"
   ]
  },
  {
   "cell_type": "code",
   "execution_count": 14,
   "metadata": {},
   "outputs": [
    {
     "data": {
      "image/png": "[encoded data removed]",
      "text/plain": [
       "<Figure size 640x480 with 1 Axes>"
      ]
     },
     "metadata": {},
     "output_type": "display_data"
    }
   ],
   "source": [
    "sns.histplot(\n",
    "    data = iris,\n",
    "    x = \"sepal_length\",\n",
    "    bins = int(180 / 5)\n",
    ")\n",
    "plt.show()"
   ]
  },
  {
   "attachments": {},
   "cell_type": "markdown",
   "metadata": {},
   "source": [
    "Queremos estar seguros que siga una distribución normal"
   ]
  },
  {
   "cell_type": "code",
   "execution_count": 15,
   "metadata": {},
   "outputs": [
    {
     "name": "stderr",
     "output_type": "stream",
     "text": [
      "C:\\Users\\alexg\\AppData\\Local\\Temp\\ipykernel_12356\\4116007582.py:1: UserWarning: \n",
      "\n",
      "`distplot` is a deprecated function and will be removed in seaborn v0.14.0.\n",
      "\n",
      "Please adapt your code to use either `displot` (a figure-level function with\n",
      "similar flexibility) or `histplot` (an axes-level function for histograms).\n",
      "\n",
      "For a guide to updating your code to use the new functions, please see\n",
      "https://gist.github.com/mwaskom/de44147ed2974457ad6372750bbe5751\n",
      "\n",
      "  sns.distplot(\n"
     ]
    },
    {
     "data": {
      "image/png": "[encoded data removed]",
      "text/plain": [
       "<Figure size 640x480 with 1 Axes>"
      ]
     },
     "metadata": {},
     "output_type": "display_data"
    }
   ],
   "source": [
    "sns.distplot(\n",
    "    iris[\"sepal_length\"],\n",
    "    hist = True,\n",
    "    kde = True,\n",
    "    bins = int(180 / 5)\n",
    ")\n",
    "plt.show()"
   ]
  },
  {
   "attachments": {},
   "cell_type": "markdown",
   "metadata": {},
   "source": [
    "Cálculo de la desviación estándar\n",
    "$$\\sigma^{2} = \\frac{\\sum_{i=1}^{n} \n",
    "  \\left(x_{i} - \\mu\\right)^{2}}\n",
    "  {N}$$\n"
   ]
  },
  {
   "cell_type": "code",
   "execution_count": 16,
   "metadata": {},
   "outputs": [
    {
     "data": {
      "text/plain": [
       "0.6856935123042505"
      ]
     },
     "execution_count": 16,
     "metadata": {},
     "output_type": "execute_result"
    }
   ],
   "source": [
    "iris[\"sepal_length\"].var()"
   ]
  },
  {
   "attachments": {},
   "cell_type": "markdown",
   "metadata": {},
   "source": [
    "Cálculo de la desviación estándar\n",
    "$$\\sigma = \\sqrt{\\sigma}^{2} = \\sqrt{\\frac{\\sum\\limits_{i=1}^{n} \\left(x_{i} - \\mu\\right)^{2}} {N}}$$"
   ]
  },
  {
   "cell_type": "code",
   "execution_count": 17,
   "metadata": {},
   "outputs": [
    {
     "data": {
      "text/plain": [
       "0.8280661279778629"
      ]
     },
     "execution_count": 17,
     "metadata": {},
     "output_type": "execute_result"
    }
   ],
   "source": [
    "iris[\"sepal_length\"].std()"
   ]
  },
  {
   "attachments": {},
   "cell_type": "markdown",
   "metadata": {},
   "source": [
    "Creamos una muestra mediante el muestreo aleatorio simple"
   ]
  },
  {
   "cell_type": "code",
   "execution_count": 18,
   "metadata": {},
   "outputs": [
    {
     "data": {
      "text/html": [
       "<div>\n",
       "<style scoped>\n",
       "    .dataframe tbody tr th:only-of-type {\n",
       "        vertical-align: middle;\n",
       "    }\n",
       "\n",
       "    .dataframe tbody tr th {\n",
       "        vertical-align: top;\n",
       "    }\n",
       "\n",
       "    .dataframe thead th {\n",
       "        text-align: right;\n",
       "    }\n",
       "</style>\n",
       "<table border=\"1\" class=\"dataframe\">\n",
       "  <thead>\n",
       "    <tr style=\"text-align: right;\">\n",
       "      <th></th>\n",
       "      <th>sepal_length</th>\n",
       "      <th>sepal_width</th>\n",
       "      <th>petal_length</th>\n",
       "      <th>petal_width</th>\n",
       "      <th>species</th>\n",
       "    </tr>\n",
       "  </thead>\n",
       "  <tbody>\n",
       "    <tr>\n",
       "      <th>79</th>\n",
       "      <td>5.7</td>\n",
       "      <td>2.6</td>\n",
       "      <td>3.5</td>\n",
       "      <td>1.0</td>\n",
       "      <td>versicolor</td>\n",
       "    </tr>\n",
       "    <tr>\n",
       "      <th>28</th>\n",
       "      <td>5.2</td>\n",
       "      <td>3.4</td>\n",
       "      <td>1.4</td>\n",
       "      <td>0.2</td>\n",
       "      <td>setosa</td>\n",
       "    </tr>\n",
       "    <tr>\n",
       "      <th>52</th>\n",
       "      <td>6.9</td>\n",
       "      <td>3.1</td>\n",
       "      <td>4.9</td>\n",
       "      <td>1.5</td>\n",
       "      <td>versicolor</td>\n",
       "    </tr>\n",
       "    <tr>\n",
       "      <th>73</th>\n",
       "      <td>6.1</td>\n",
       "      <td>2.8</td>\n",
       "      <td>4.7</td>\n",
       "      <td>1.2</td>\n",
       "      <td>versicolor</td>\n",
       "    </tr>\n",
       "    <tr>\n",
       "      <th>87</th>\n",
       "      <td>6.3</td>\n",
       "      <td>2.3</td>\n",
       "      <td>4.4</td>\n",
       "      <td>1.3</td>\n",
       "      <td>versicolor</td>\n",
       "    </tr>\n",
       "  </tbody>\n",
       "</table>\n",
       "</div>"
      ],
      "text/plain": [
       "    sepal_length  sepal_width  petal_length  petal_width     species\n",
       "79           5.7          2.6           3.5          1.0  versicolor\n",
       "28           5.2          3.4           1.4          0.2      setosa\n",
       "52           6.9          3.1           4.9          1.5  versicolor\n",
       "73           6.1          2.8           4.7          1.2  versicolor\n",
       "87           6.3          2.3           4.4          1.3  versicolor"
      ]
     },
     "execution_count": 18,
     "metadata": {},
     "output_type": "execute_result"
    }
   ],
   "source": [
    "muestra = iris.sample(frac = 0.5)\n",
    "muestra.head()"
   ]
  },
  {
   "attachments": {},
   "cell_type": "markdown",
   "metadata": {},
   "source": [
    "Cálculo de la varianza"
   ]
  },
  {
   "cell_type": "code",
   "execution_count": 19,
   "metadata": {},
   "outputs": [
    {
     "data": {
      "text/plain": [
       "0.6236468468468469"
      ]
     },
     "execution_count": 19,
     "metadata": {},
     "output_type": "execute_result"
    }
   ],
   "source": [
    "muestra[\"sepal_length\"].var()"
   ]
  },
  {
   "attachments": {},
   "cell_type": "markdown",
   "metadata": {},
   "source": [
    "Cálculo de la desviación estándar"
   ]
  },
  {
   "cell_type": "code",
   "execution_count": 20,
   "metadata": {},
   "outputs": [
    {
     "data": {
      "text/plain": [
       "0.789713142126207"
      ]
     },
     "execution_count": 20,
     "metadata": {},
     "output_type": "execute_result"
    }
   ],
   "source": [
    "muestra[\"sepal_length\"].std()"
   ]
  },
  {
   "attachments": {},
   "cell_type": "markdown",
   "metadata": {},
   "source": [
    "#### Intervalos de confianza"
   ]
  },
  {
   "attachments": {},
   "cell_type": "markdown",
   "metadata": {},
   "source": [
    "Son un par o varios pares de números entre los cuales se estima que estará cierto valor desconocido respecto a un parámetro poblacional con un determinado nivel de confianza.\n",
    "\n",
    "Estos valores se comportan de manera simétrica respecto a la media."
   ]
  },
  {
   "attachments": {},
   "cell_type": "markdown",
   "metadata": {},
   "source": [
    "**Nivel de significación**\n",
    "\n",
    "El nivel de significación **alpha** es el nivel límite para juzgar si un resultado es o no es estadísticamente significativo. Si el valor de significación es menor que el nivel de significación entonces el resultado es estadísticamente significativo.\n",
    "\n",
    "![](significacion.PNG)"
   ]
  },
  {
   "attachments": {},
   "cell_type": "markdown",
   "metadata": {},
   "source": [
    "**Interpretación del resultado**\n",
    "\n",
    "Intervalo de confianza del 95%: sabemos que con un 95% de certeza las edades de las personas que esquían entán en un intervalo, entre un valor y otro.\n",
    "\n",
    "![](conf.PNG)"
   ]
  },
  {
   "attachments": {},
   "cell_type": "markdown",
   "metadata": {},
   "source": [
    "##### Cálculo de intervalos de confianza"
   ]
  },
  {
   "attachments": {},
   "cell_type": "markdown",
   "metadata": {},
   "source": [
    "**Ejemplo 1**\n",
    "\n",
    "No conocemos información de la población; estamos intentando calcular con un 95% de certidumbre entre qué valor mínimo y máximo se encuentra la población. Eso significa que el 5% va a estar distribuido entre la izquierda y la derecha:\n",
    "![](ejer1.PNG)\n",
    "\n",
    "Tenemos la *z-table* para encontrar todos los valores en función de nuestro índice de confianza. Como hablamos del 95% (confianza) le sumamos el 2.5% (alpha / 2) y este valor del 97.5% es el que buscamos en la tabla.\n",
    "![](ztable.PNG) <br>\n",
    "![](z-table2.PNG)\n",
    "\n",
    "Como vemos, obtenemos el valor 1.96.\n",
    "\n",
    "Ahora, si consideramos el 0 como nuestra media entonces tendremos al lado izquierdo el -1.96 y al lado derecho el 1.96; esto significa que nuestro valor está entre [-1.96, 1.96]."
   ]
  },
  {
   "attachments": {},
   "cell_type": "markdown",
   "metadata": {},
   "source": [
    "**Ejemplo 2**\n",
    "\n",
    "La duración de un cepillo de dientes se ajusta a una distribución normal(28, 4). ¿Cuál es el intervalo de confianza al 80%?\n",
    "![](ejer2.PNG)\n",
    "\n",
    "Como tenemos el 80% de confianza entonces el valor de alpha es 20% que se distribuye entre el 10% a la izquierda y el 10% a la derecha; de esta forma, el valor que debemos buscar es el de 80% + 10%, o sea, 90%\n",
    "![](z-table3.PNG)\n",
    "\n",
    "Nos queda entonces el intervalo [-1.28, 1.28]. Pero esto es para una media de 0 así que debemos ajustarlo a nuestra media de 28 con la fórmula:\n",
    "$$ Z = \\frac{x - \\mu}{\\delta}$$\n",
    "\n",
    "![](ejer2res.PNG)"
   ]
  },
  {
   "attachments": {},
   "cell_type": "markdown",
   "metadata": {},
   "source": [
    "**Utilizando Scipy**"
   ]
  },
  {
   "attachments": {},
   "cell_type": "markdown",
   "metadata": {},
   "source": [
    "Creamos una distribución"
   ]
  },
  {
   "cell_type": "code",
   "execution_count": 21,
   "metadata": {},
   "outputs": [
    {
     "name": "stdout",
     "output_type": "stream",
     "text": [
      "[3 9 4 6 7 2 0 6 8 5]\n",
      "[1.91516741 9.55969629 4.93946935 5.02151896 7.50309684 2.40641447\n",
      " 0.32346101 5.50658912 7.20798321 4.15763207]\n"
     ]
    }
   ],
   "source": [
    "np.random.seed(20) \n",
    "var1 = np.random.randint(0, 10, 10) # Días de vacaciones\n",
    "var2 = var1 + np.random.normal(0, 1, 10) # Dinero gastado\n",
    "print(var1, var2, sep = \"\\n\")"
   ]
  },
  {
   "attachments": {},
   "cell_type": "markdown",
   "metadata": {},
   "source": [
    "Visualizamos los resultados con un intervalo de confianza del 80%"
   ]
  },
  {
   "cell_type": "code",
   "execution_count": 22,
   "metadata": {},
   "outputs": [
    {
     "data": {
      "image/png": "[encoded data removed]",
      "text/plain": [
       "<Figure size 640x480 with 1 Axes>"
      ]
     },
     "metadata": {},
     "output_type": "display_data"
    }
   ],
   "source": [
    "sns.regplot(\n",
    "    x = var1, \n",
    "    y = var2,\n",
    "    # Intervalo de confianza del 80%\n",
    "    ci = 80\n",
    ")\n",
    "plt.show()"
   ]
  },
  {
   "attachments": {},
   "cell_type": "markdown",
   "metadata": {},
   "source": [
    "Unimos las dos variables en una tupla"
   ]
  },
  {
   "cell_type": "code",
   "execution_count": 23,
   "metadata": {},
   "outputs": [
    {
     "data": {
      "text/plain": [
       "[(3, 1.9151674126826672),\n",
       " (9, 9.559696289403918),\n",
       " (4, 4.939469349856077),\n",
       " (6, 5.021518957881304),\n",
       " (7, 7.503096840109191),\n",
       " (2, 2.406414468894801),\n",
       " (0, 0.3234610099156434),\n",
       " (6, 5.50658911809112),\n",
       " (8, 7.207983209222818),\n",
       " (5, 4.157632065861516)]"
      ]
     },
     "execution_count": 23,
     "metadata": {},
     "output_type": "execute_result"
    }
   ],
   "source": [
    "# Unimos las variables var1 y var2 (estamos creando un tuple) a partir de zip\n",
    "tuple = list(zip(var1, var2))\n",
    "tuple"
   ]
  },
  {
   "attachments": {},
   "cell_type": "markdown",
   "metadata": {},
   "source": [
    "Transformamos la tupla en un dataframe"
   ]
  },
  {
   "cell_type": "code",
   "execution_count": 24,
   "metadata": {},
   "outputs": [
    {
     "data": {
      "text/html": [
       "<div>\n",
       "<style scoped>\n",
       "    .dataframe tbody tr th:only-of-type {\n",
       "        vertical-align: middle;\n",
       "    }\n",
       "\n",
       "    .dataframe tbody tr th {\n",
       "        vertical-align: top;\n",
       "    }\n",
       "\n",
       "    .dataframe thead th {\n",
       "        text-align: right;\n",
       "    }\n",
       "</style>\n",
       "<table border=\"1\" class=\"dataframe\">\n",
       "  <thead>\n",
       "    <tr style=\"text-align: right;\">\n",
       "      <th></th>\n",
       "      <th>Días_vacaciones</th>\n",
       "      <th>Dinero_gastado</th>\n",
       "    </tr>\n",
       "  </thead>\n",
       "  <tbody>\n",
       "    <tr>\n",
       "      <th>0</th>\n",
       "      <td>3</td>\n",
       "      <td>1.915167</td>\n",
       "    </tr>\n",
       "    <tr>\n",
       "      <th>1</th>\n",
       "      <td>9</td>\n",
       "      <td>9.559696</td>\n",
       "    </tr>\n",
       "    <tr>\n",
       "      <th>2</th>\n",
       "      <td>4</td>\n",
       "      <td>4.939469</td>\n",
       "    </tr>\n",
       "    <tr>\n",
       "      <th>3</th>\n",
       "      <td>6</td>\n",
       "      <td>5.021519</td>\n",
       "    </tr>\n",
       "    <tr>\n",
       "      <th>4</th>\n",
       "      <td>7</td>\n",
       "      <td>7.503097</td>\n",
       "    </tr>\n",
       "    <tr>\n",
       "      <th>5</th>\n",
       "      <td>2</td>\n",
       "      <td>2.406414</td>\n",
       "    </tr>\n",
       "    <tr>\n",
       "      <th>6</th>\n",
       "      <td>0</td>\n",
       "      <td>0.323461</td>\n",
       "    </tr>\n",
       "    <tr>\n",
       "      <th>7</th>\n",
       "      <td>6</td>\n",
       "      <td>5.506589</td>\n",
       "    </tr>\n",
       "    <tr>\n",
       "      <th>8</th>\n",
       "      <td>8</td>\n",
       "      <td>7.207983</td>\n",
       "    </tr>\n",
       "    <tr>\n",
       "      <th>9</th>\n",
       "      <td>5</td>\n",
       "      <td>4.157632</td>\n",
       "    </tr>\n",
       "  </tbody>\n",
       "</table>\n",
       "</div>"
      ],
      "text/plain": [
       "   Días_vacaciones  Dinero_gastado\n",
       "0                3        1.915167\n",
       "1                9        9.559696\n",
       "2                4        4.939469\n",
       "3                6        5.021519\n",
       "4                7        7.503097\n",
       "5                2        2.406414\n",
       "6                0        0.323461\n",
       "7                6        5.506589\n",
       "8                8        7.207983\n",
       "9                5        4.157632"
      ]
     },
     "execution_count": 24,
     "metadata": {},
     "output_type": "execute_result"
    }
   ],
   "source": [
    "# Transformamos el tuple a un data frame a partir de DataFrame\n",
    "tabla = pd.DataFrame(tuple,\n",
    "                  columns = ['Días_vacaciones', 'Dinero_gastado'])\n",
    "tabla"
   ]
  },
  {
   "attachments": {},
   "cell_type": "markdown",
   "metadata": {},
   "source": [
    "Calculamos un intervalo de confianza del 95%"
   ]
  },
  {
   "cell_type": "code",
   "execution_count": 25,
   "metadata": {},
   "outputs": [
    {
     "name": "stderr",
     "output_type": "stream",
     "text": [
      "d:\\anaconda3\\lib\\site-packages\\numpy\\core\\fromnumeric.py:3430: FutureWarning: In a future version, DataFrame.mean(axis=None) will return a scalar mean over the entire DataFrame. To retain the old behavior, use 'frame.mean(axis=0)' or just 'frame.mean()'\n",
      "  return mean(axis=axis, dtype=dtype, out=out, **kwargs)\n",
      "C:\\Users\\alexg\\AppData\\Local\\Temp\\ipykernel_12356\\968054851.py:2: DeprecationWarning: Use of keyword argument `alpha` for method `interval` is deprecated. Use first positional argument or keyword argument `confidence` instead.\n",
      "  st.t.interval(alpha = 0.95, df = len(tabla) - 1, loc = np.mean(tabla), scale = st.sem(tabla))\n"
     ]
    },
    {
     "data": {
      "text/plain": [
       "(array([3.00496491, 2.84767315]), array([6.99503509, 6.86053259]))"
      ]
     },
     "execution_count": 25,
     "metadata": {},
     "output_type": "execute_result"
    }
   ],
   "source": [
    "# Calcular los intervalos de confianza a un 95% para ambas variables\n",
    "st.t.interval(alpha = 0.95, df = len(tabla) - 1, loc = np.mean(tabla), scale = st.sem(tabla)) "
   ]
  },
  {
   "attachments": {},
   "cell_type": "markdown",
   "metadata": {},
   "source": [
    "También se puede usar la función *st.norm.interval* para cuando se tiene una cantidad de muestras (n) mayor o igual a 30, esto debido a que con esta cantidad de muestras se puede asumir que los datos están normalmente distribuidos (teorema del limite central).\n",
    "\n",
    "En resumen:\n",
    "- Si n<30 usamos st.t.interval\n",
    "- Si n>=30 usamos st.norm.interval"
   ]
  },
  {
   "attachments": {},
   "cell_type": "markdown",
   "metadata": {},
   "source": [
    "### Pruebas de hipótesis y validación\n"
   ]
  },
  {
   "attachments": {},
   "cell_type": "markdown",
   "metadata": {},
   "source": [
    "Una prueba de hipótesis nos ayuda a juzgar si existe una diferencia significativa entre el tamaño de la muestra y el parámetro general. Es decir, comprobamos si sobre una teoría, una hipótesis que tenemos, hay alguna diferencia entre los dos casos. Por ejemplo, podemos preguntarnos si en las ciudades más frías las personas viven más, en el caso de que sí vivan más estaríamos demostrando lo contrario a lo que queremos, ya que esperamos que vivan lo mismo y esto sería nuestra hipótesis nula (**H0**): la gente vive igual en un lugar frío o en un lugar cálido ya que es no más \"normal\" y quedaría dentro de la distribución central; pero si en los países cálidos o en los países fríos la población vive más entonces estaríamos rechazando nuestra hipótesis y nos iríamos por una alternativa (**H1**).\n",
    "\n",
    "![](hipotesis.PNG)\n"
   ]
  },
  {
   "attachments": {},
   "cell_type": "markdown",
   "metadata": {},
   "source": [
    "Los pasos a seguir son:\n",
    "1. Establecer una hipótesis nula **H0** y una hipótesis alternativa **H1**.\n",
    "2. Seleccionar el **nivel de significancia**.\n",
    "3. Seleccionar el **estadístico de prueba**.\n",
    "4. Formular la regla de decisión.\n",
    "5. Interpretar los resultados y tomar una decisión.\n",
    "\n",
    "- H0 = la hipótesis más aceptada: las ventas de cerveza son las mismas en cualquier época del año. la gente vive lo mismo en todos los países.\n",
    "- H1: en verano se vende más cerveza. la gente vive más en países nórdicos.\n",
    "- Seleccionar el nivel de significancia: con qué certidumbre queremos encontrar estas diferencias entre las distribuciones.\n",
    "- Seleccionar el estadístico de prueba; tenemos: t de student(en poblaciones pequeñas, sin datos de distribución), coeficiente pearson(medir correlación) o ANOVA (comparar la varianza de las distribuciones)\n",
    "- Formular la regla de decisión; por ejemplo: si para el 99% de seguridad tenemos una diferencia vamos a hacer un cambio en la empresa.\n",
    "- Interpretar los resultados y tomar una decisión. si H(1) es real entonces hay que incrementar nuestro marketing en verano."
   ]
  },
  {
   "attachments": {},
   "cell_type": "markdown",
   "metadata": {},
   "source": [
    "#### Tipos de pruebas de hipótesis"
   ]
  },
  {
   "attachments": {},
   "cell_type": "markdown",
   "metadata": {},
   "source": [
    "![](tiposTest.png)"
   ]
  },
  {
   "attachments": {},
   "cell_type": "markdown",
   "metadata": {},
   "source": [
    "##### Distribución T de Student"
   ]
  },
  {
   "attachments": {},
   "cell_type": "markdown",
   "metadata": {},
   "source": [
    "Se usa para estimar una media poblacional normalmente distribuida a partir de una muestra pequeña que sigue una distribución normal y de la que desconocemos la desviación estándar.\n",
    "![](t.PNG)\n",
    "\n",
    "Este tipo de validación se usa cuando la muestra es pequeña y desconocemos la desviación estándar."
   ]
  },
  {
   "attachments": {},
   "cell_type": "markdown",
   "metadata": {},
   "source": [
    "##### Coeficiente de Pearson"
   ]
  },
  {
   "attachments": {},
   "cell_type": "markdown",
   "metadata": {},
   "source": [
    "Se usa para medir la dependencia lineal (correlación) entre dos variables aleatorias cuantitativas.\n",
    "\n",
    "![](pearson.PNG)"
   ]
  },
  {
   "attachments": {},
   "cell_type": "markdown",
   "metadata": {},
   "source": [
    "##### Análisis de la varianza ANOVA"
   ]
  },
  {
   "attachments": {},
   "cell_type": "markdown",
   "metadata": {},
   "source": [
    "Se usa para comparar las varianzas entre las medias de diferentes grupos para llegar a la conclusión de si existen o no diferencias significativas.\n",
    "\n",
    "![](anova.PNG)"
   ]
  },
  {
   "attachments": {},
   "cell_type": "markdown",
   "metadata": {},
   "source": [
    "#### Tipos de errores"
   ]
  },
  {
   "attachments": {},
   "cell_type": "markdown",
   "metadata": {},
   "source": [
    "Las conclusiones a las que llegamos se basan en una muestra, por lo que podemos equivocarnos.\n",
    "\n",
    "**Decisiones correctas**\n",
    "- Rechazar H0 cuando es falsa.\n",
    "- No rechazar H0 cuando es verdadera.\n",
    "\n",
    "**Decisiones incorrectas**\n",
    "- Rechazar H0 cuando es verdadera.\n",
    "- No rechazar H0 cuando es falsa.\n",
    "\n",
    "![](tipoerrores.png)\n",
    "\n",
    "![](tiposErrores.jpg)\n",
    "\n",
    "**Ejemplo**\n",
    "\n",
    "![](ejemploErrores.png)"
   ]
  },
  {
   "attachments": {},
   "cell_type": "markdown",
   "metadata": {},
   "source": [
    "#### Ejemplo de pruebas de hipótesis"
   ]
  },
  {
   "attachments": {},
   "cell_type": "markdown",
   "metadata": {},
   "source": [
    "Utilizamos nuevamente el dataset *iris*"
   ]
  },
  {
   "cell_type": "code",
   "execution_count": 26,
   "metadata": {},
   "outputs": [
    {
     "data": {
      "text/html": [
       "<div>\n",
       "<style scoped>\n",
       "    .dataframe tbody tr th:only-of-type {\n",
       "        vertical-align: middle;\n",
       "    }\n",
       "\n",
       "    .dataframe tbody tr th {\n",
       "        vertical-align: top;\n",
       "    }\n",
       "\n",
       "    .dataframe thead th {\n",
       "        text-align: right;\n",
       "    }\n",
       "</style>\n",
       "<table border=\"1\" class=\"dataframe\">\n",
       "  <thead>\n",
       "    <tr style=\"text-align: right;\">\n",
       "      <th></th>\n",
       "      <th>sepal_length</th>\n",
       "      <th>sepal_width</th>\n",
       "      <th>petal_length</th>\n",
       "      <th>petal_width</th>\n",
       "      <th>species</th>\n",
       "    </tr>\n",
       "  </thead>\n",
       "  <tbody>\n",
       "    <tr>\n",
       "      <th>0</th>\n",
       "      <td>5.1</td>\n",
       "      <td>3.5</td>\n",
       "      <td>1.4</td>\n",
       "      <td>0.2</td>\n",
       "      <td>setosa</td>\n",
       "    </tr>\n",
       "    <tr>\n",
       "      <th>1</th>\n",
       "      <td>4.9</td>\n",
       "      <td>3.0</td>\n",
       "      <td>1.4</td>\n",
       "      <td>0.2</td>\n",
       "      <td>setosa</td>\n",
       "    </tr>\n",
       "    <tr>\n",
       "      <th>2</th>\n",
       "      <td>4.7</td>\n",
       "      <td>3.2</td>\n",
       "      <td>1.3</td>\n",
       "      <td>0.2</td>\n",
       "      <td>setosa</td>\n",
       "    </tr>\n",
       "    <tr>\n",
       "      <th>3</th>\n",
       "      <td>4.6</td>\n",
       "      <td>3.1</td>\n",
       "      <td>1.5</td>\n",
       "      <td>0.2</td>\n",
       "      <td>setosa</td>\n",
       "    </tr>\n",
       "    <tr>\n",
       "      <th>4</th>\n",
       "      <td>5.0</td>\n",
       "      <td>3.6</td>\n",
       "      <td>1.4</td>\n",
       "      <td>0.2</td>\n",
       "      <td>setosa</td>\n",
       "    </tr>\n",
       "  </tbody>\n",
       "</table>\n",
       "</div>"
      ],
      "text/plain": [
       "   sepal_length  sepal_width  petal_length  petal_width species\n",
       "0           5.1          3.5           1.4          0.2  setosa\n",
       "1           4.9          3.0           1.4          0.2  setosa\n",
       "2           4.7          3.2           1.3          0.2  setosa\n",
       "3           4.6          3.1           1.5          0.2  setosa\n",
       "4           5.0          3.6           1.4          0.2  setosa"
      ]
     },
     "execution_count": 26,
     "metadata": {},
     "output_type": "execute_result"
    }
   ],
   "source": [
    "iris.head()"
   ]
  },
  {
   "attachments": {},
   "cell_type": "markdown",
   "metadata": {},
   "source": [
    "##### Distribución T de Student"
   ]
  },
  {
   "attachments": {},
   "cell_type": "markdown",
   "metadata": {},
   "source": [
    "Vamos a seleccionar dos variables numéricas, *sepal_length* y *sepal_width* para ver si hay alguna diferencia entre ambas: \n",
    "- H0: se distribuyen similar.\n",
    "- H1: no se distribuyen similar.\n",
    "\n",
    "Lo primero que debemos calcular es el error estándar: \n",
    "\n",
    "![](se.png)\n"
   ]
  },
  {
   "cell_type": "code",
   "execution_count": 28,
   "metadata": {},
   "outputs": [],
   "source": [
    "seLength = iris[\"sepal_length\"].std() / np.sqrt(10)\n",
    "seWidth = iris[\"sepal_width\"].std() / np.sqrt(10)"
   ]
  },
  {
   "attachments": {},
   "cell_type": "markdown",
   "metadata": {},
   "source": [
    "Ahora debemos calcular el standar error deviation:\n",
    "\n",
    "![](sed.jpg)\n"
   ]
  },
  {
   "cell_type": "code",
   "execution_count": 29,
   "metadata": {},
   "outputs": [],
   "source": [
    "sed = np.sqrt((seLength ** 2) + (seWidth ** 2))"
   ]
  },
  {
   "attachments": {},
   "cell_type": "markdown",
   "metadata": {},
   "source": [
    "Y ahora calculamos el estadístico t:\n",
    "\n",
    "![](t0.png)\n",
    "![](t1.png)"
   ]
  },
  {
   "cell_type": "code",
   "execution_count": 30,
   "metadata": {},
   "outputs": [
    {
     "data": {
      "text/plain": [
       "9.414779428410265"
      ]
     },
     "execution_count": 30,
     "metadata": {},
     "output_type": "execute_result"
    }
   ],
   "source": [
    "tStat = (iris[\"sepal_length\"].mean() - iris[\"sepal_width\"].mean()) / sed\n",
    "tStat"
   ]
  },
  {
   "attachments": {},
   "cell_type": "markdown",
   "metadata": {},
   "source": [
    "Ahora calculamos el p-valor con *ttest_ind*:"
   ]
  },
  {
   "cell_type": "code",
   "execution_count": 31,
   "metadata": {},
   "outputs": [
    {
     "data": {
      "text/plain": [
       "Ttest_indResult(statistic=36.463283934449116, pvalue=7.027919392009369e-112)"
      ]
     },
     "execution_count": 31,
     "metadata": {},
     "output_type": "execute_result"
    }
   ],
   "source": [
    "p = ttest_ind(iris[\"sepal_length\"], iris[\"sepal_width\"])\n",
    "p"
   ]
  },
  {
   "attachments": {},
   "cell_type": "markdown",
   "metadata": {},
   "source": [
    "Nuestro estadístico T es 9.41 y el p-valor es muy muy muy pequeño; |T| > |p-valor| y por tanto rechazamos la hipótesis nula de que sepal_length y sepal_width se distribuyen similar. Las distribuciones de ambas variables son diferentes."
   ]
  },
  {
   "attachments": {},
   "cell_type": "markdown",
   "metadata": {},
   "source": [
    "##### Correlación y Coeficiente de Pearson"
   ]
  },
  {
   "attachments": {},
   "cell_type": "markdown",
   "metadata": {},
   "source": [
    "Estudiamos la correlación entre *sepal_lenght* y *sepal_width*:\n",
    "- H0: ambas variables no están correlacionadas.\n",
    "- H1: ambas variables están correlacionadas."
   ]
  },
  {
   "cell_type": "code",
   "execution_count": 32,
   "metadata": {},
   "outputs": [
    {
     "data": {
      "text/plain": [
       "-0.11756978413300198"
      ]
     },
     "execution_count": 32,
     "metadata": {},
     "output_type": "execute_result"
    }
   ],
   "source": [
    "iris[\"sepal_length\"].corr(iris[\"sepal_width\"])"
   ]
  },
  {
   "attachments": {},
   "cell_type": "markdown",
   "metadata": {},
   "source": [
    "Parece una correlación muy débil o inexistente.\n",
    "\n",
    "Ahora estudiamos la correlación de Pearson entre ambas variables"
   ]
  },
  {
   "cell_type": "code",
   "execution_count": 33,
   "metadata": {},
   "outputs": [
    {
     "data": {
      "text/plain": [
       "PearsonRResult(statistic=-0.11756978413300206, pvalue=0.15189826071144766)"
      ]
     },
     "execution_count": 33,
     "metadata": {},
     "output_type": "execute_result"
    }
   ],
   "source": [
    "st.pearsonr(iris[\"sepal_length\"], iris[\"sepal_width\"])"
   ]
  },
  {
   "attachments": {},
   "cell_type": "markdown",
   "metadata": {},
   "source": [
    "Comparando entonces |-0.11| y |0.15| vemos que el p-valor es mayor y por tanto no se rechaza la hipótesis nula, es decir, ambas variables no están correlacionadas."
   ]
  },
  {
   "attachments": {},
   "cell_type": "markdown",
   "metadata": {},
   "source": [
    "##### Análisis de la varianza ANOVA"
   ]
  },
  {
   "attachments": {},
   "cell_type": "markdown",
   "metadata": {},
   "source": [
    "Queremos ver si existen una diferencia entre la distribución de una variable respecto a la otra."
   ]
  },
  {
   "cell_type": "code",
   "execution_count": 35,
   "metadata": {},
   "outputs": [
    {
     "data": {
      "text/plain": [
       "F_onewayResult(statistic=1329.571075284254, pvalue=7.027919392009998e-112)"
      ]
     },
     "execution_count": 35,
     "metadata": {},
     "output_type": "execute_result"
    }
   ],
   "source": [
    "f_oneway(iris[\"sepal_length\"], iris[\"sepal_width\"])"
   ]
  },
  {
   "attachments": {},
   "cell_type": "markdown",
   "metadata": {},
   "source": [
    "F Test es 1329.57 y su pvalue correspondiente es 7.02e-112. Dado que es un número inferior a 0.05 rechazamos la hipótesis nula de que las medias entre variables son similares y concluimos que sí hay diferencias.\n"
   ]
  },
  {
   "attachments": {},
   "cell_type": "markdown",
   "metadata": {},
   "source": [
    "#### Bootstrapping"
   ]
  },
  {
   "attachments": {},
   "cell_type": "markdown",
   "metadata": {},
   "source": [
    "Es un método de remuestreo de datos dentro de una muestra aleatoria usado para hallar una aproximación a la distribución de la variable analizada. Es muy útil cuando la población es pequeña o cuando las distribuciones son muy sesgadas.\n",
    "\n",
    "![](boostrapping.PNG)\n",
    "\n",
    "Partimos de una muestra y de esta muestra volvemos a obtener una muestra, o sea, una muestra de la muestra. Es con reemplazo porque la muestra original siempre mantiene todos sus elementos. Estos remuestreos podemos obtenerlos *n* veces y por ello es un método muy versátil además que no asume criterios sobre la población. Lo ideal es hacer más de 1000 iteraciones."
   ]
  },
  {
   "attachments": {},
   "cell_type": "markdown",
   "metadata": {},
   "source": [
    "Creamos una muestra aleatoria de 10000 personas que tienen una edad promedio de 34 años."
   ]
  },
  {
   "cell_type": "code",
   "execution_count": 37,
   "metadata": {},
   "outputs": [
    {
     "data": {
      "text/plain": [
       "array([32.72049734, 34.24571517, 33.9558052 , ..., 33.4997036 ,\n",
       "       31.95154722, 32.50619463])"
      ]
     },
     "execution_count": 37,
     "metadata": {},
     "output_type": "execute_result"
    }
   ],
   "source": [
    "data = np.random.normal(loc = 34, size = 10000)\n",
    "data"
   ]
  },
  {
   "attachments": {},
   "cell_type": "markdown",
   "metadata": {},
   "source": [
    "Comprobamos el promedio de nuestros datos"
   ]
  },
  {
   "cell_type": "code",
   "execution_count": 38,
   "metadata": {},
   "outputs": [
    {
     "data": {
      "text/plain": [
       "34.01569046435315"
      ]
     },
     "execution_count": 38,
     "metadata": {},
     "output_type": "execute_result"
    }
   ],
   "source": [
    "data.mean()"
   ]
  },
  {
   "attachments": {},
   "cell_type": "markdown",
   "metadata": {},
   "source": [
    "Vamos a crear 40 muestras de tamaño 5 para estimar el promedio de la edad a partir de bootstrapping."
   ]
  },
  {
   "cell_type": "code",
   "execution_count": 41,
   "metadata": {},
   "outputs": [],
   "source": [
    "# Definimos una función para el bootstrapping que recibe n iteraciones para un tamaño de muestra size\n",
    "def bootstrapping(n, size):\n",
    "    # Lista que guardará los promedios de las muestras\n",
    "    promedios = []\n",
    "    \n",
    "    # Hacemos el bootsrapping n veces\n",
    "    for i in range(n):\n",
    "        # Hacemos un muestreo aleatorio de tamaño size a partir del conjunto de datos \n",
    "        muestra = rd.sample(data.tolist(), size)\n",
    "        # Calculamos la media de la muestra\n",
    "        promedio = np.mean(muestra)\n",
    "        # Guardamos la media\n",
    "        promedios.append(promedio)\n",
    "    \n",
    "    # Retornamos la lista con las medias de los muestreos\n",
    "    return promedios "
   ]
  },
  {
   "cell_type": "code",
   "execution_count": 42,
   "metadata": {},
   "outputs": [
    {
     "data": {
      "text/plain": [
       "34.0652562080772"
      ]
     },
     "execution_count": 42,
     "metadata": {},
     "output_type": "execute_result"
    }
   ],
   "source": [
    "np.mean(bootstrapping(40, 5))"
   ]
  },
  {
   "attachments": {},
   "cell_type": "markdown",
   "metadata": {},
   "source": [
    "Cada vez obtendríamos un resultado diferente. El muestreo por bootstrapping saca promedios de una población creando muestras más pequeñas y se usa para DS e IA para evitar el overfitting. El sobreajuste es un error de modelado que se produce cuando una función se ajusta demasiado a un conjunto limitado de puntos de datos."
   ]
  },
  {
   "cell_type": "code",
   "execution_count": 43,
   "metadata": {},
   "outputs": [
    {
     "data": {
      "text/plain": [
       "34.015090165394035"
      ]
     },
     "execution_count": 43,
     "metadata": {},
     "output_type": "execute_result"
    }
   ],
   "source": [
    "np.mean(bootstrapping(1000, 1000))"
   ]
  },
  {
   "attachments": {},
   "cell_type": "markdown",
   "metadata": {},
   "source": [
    "#### Validación cruzada"
   ]
  },
  {
   "attachments": {},
   "cell_type": "markdown",
   "metadata": {},
   "source": [
    "Es una técnica utilizada para evaluar los resultados de un análisis estadístico y garantizar que son independientes de la partición entre los datos de entrenamiento y prueba.\n",
    "\n",
    "**Procedimiento**:\n",
    "- Hay que dividir los datos de forma aleatoria en *K* grupos de tamaño similar.\n",
    "- Usar *K-1* grupos para entrenar el modelo.\n",
    "- Tomar uno de estos grupos para validar el modelo.\n",
    "- Repetir *K* veces usando grupos distintos en cada iteración."
   ]
  },
  {
   "attachments": {},
   "cell_type": "markdown",
   "metadata": {},
   "source": [
    "Importamos el conjunto de datos"
   ]
  },
  {
   "cell_type": "code",
   "execution_count": 44,
   "metadata": {},
   "outputs": [
    {
     "data": {
      "text/html": [
       "<div>\n",
       "<style scoped>\n",
       "    .dataframe tbody tr th:only-of-type {\n",
       "        vertical-align: middle;\n",
       "    }\n",
       "\n",
       "    .dataframe tbody tr th {\n",
       "        vertical-align: top;\n",
       "    }\n",
       "\n",
       "    .dataframe thead th {\n",
       "        text-align: right;\n",
       "    }\n",
       "</style>\n",
       "<table border=\"1\" class=\"dataframe\">\n",
       "  <thead>\n",
       "    <tr style=\"text-align: right;\">\n",
       "      <th></th>\n",
       "      <th>id</th>\n",
       "      <th>diagnosis</th>\n",
       "      <th>radius_mean</th>\n",
       "      <th>texture_mean</th>\n",
       "      <th>perimeter_mean</th>\n",
       "      <th>area_mean</th>\n",
       "      <th>smoothness_mean</th>\n",
       "      <th>compactness_mean</th>\n",
       "      <th>concavity_mean</th>\n",
       "      <th>concave points_mean</th>\n",
       "      <th>...</th>\n",
       "      <th>radius_worst</th>\n",
       "      <th>texture_worst</th>\n",
       "      <th>perimeter_worst</th>\n",
       "      <th>area_worst</th>\n",
       "      <th>smoothness_worst</th>\n",
       "      <th>compactness_worst</th>\n",
       "      <th>concavity_worst</th>\n",
       "      <th>concave points_worst</th>\n",
       "      <th>symmetry_worst</th>\n",
       "      <th>fractal_dimension_worst</th>\n",
       "    </tr>\n",
       "  </thead>\n",
       "  <tbody>\n",
       "    <tr>\n",
       "      <th>0</th>\n",
       "      <td>842302</td>\n",
       "      <td>M</td>\n",
       "      <td>17.99</td>\n",
       "      <td>10.38</td>\n",
       "      <td>122.80</td>\n",
       "      <td>1001.0</td>\n",
       "      <td>0.11840</td>\n",
       "      <td>0.27760</td>\n",
       "      <td>0.3001</td>\n",
       "      <td>0.14710</td>\n",
       "      <td>...</td>\n",
       "      <td>25.38</td>\n",
       "      <td>17.33</td>\n",
       "      <td>184.60</td>\n",
       "      <td>2019.0</td>\n",
       "      <td>0.1622</td>\n",
       "      <td>0.6656</td>\n",
       "      <td>0.7119</td>\n",
       "      <td>0.2654</td>\n",
       "      <td>0.4601</td>\n",
       "      <td>0.11890</td>\n",
       "    </tr>\n",
       "    <tr>\n",
       "      <th>1</th>\n",
       "      <td>842517</td>\n",
       "      <td>M</td>\n",
       "      <td>20.57</td>\n",
       "      <td>17.77</td>\n",
       "      <td>132.90</td>\n",
       "      <td>1326.0</td>\n",
       "      <td>0.08474</td>\n",
       "      <td>0.07864</td>\n",
       "      <td>0.0869</td>\n",
       "      <td>0.07017</td>\n",
       "      <td>...</td>\n",
       "      <td>24.99</td>\n",
       "      <td>23.41</td>\n",
       "      <td>158.80</td>\n",
       "      <td>1956.0</td>\n",
       "      <td>0.1238</td>\n",
       "      <td>0.1866</td>\n",
       "      <td>0.2416</td>\n",
       "      <td>0.1860</td>\n",
       "      <td>0.2750</td>\n",
       "      <td>0.08902</td>\n",
       "    </tr>\n",
       "    <tr>\n",
       "      <th>2</th>\n",
       "      <td>84300903</td>\n",
       "      <td>M</td>\n",
       "      <td>19.69</td>\n",
       "      <td>21.25</td>\n",
       "      <td>130.00</td>\n",
       "      <td>1203.0</td>\n",
       "      <td>0.10960</td>\n",
       "      <td>0.15990</td>\n",
       "      <td>0.1974</td>\n",
       "      <td>0.12790</td>\n",
       "      <td>...</td>\n",
       "      <td>23.57</td>\n",
       "      <td>25.53</td>\n",
       "      <td>152.50</td>\n",
       "      <td>1709.0</td>\n",
       "      <td>0.1444</td>\n",
       "      <td>0.4245</td>\n",
       "      <td>0.4504</td>\n",
       "      <td>0.2430</td>\n",
       "      <td>0.3613</td>\n",
       "      <td>0.08758</td>\n",
       "    </tr>\n",
       "    <tr>\n",
       "      <th>3</th>\n",
       "      <td>84348301</td>\n",
       "      <td>M</td>\n",
       "      <td>11.42</td>\n",
       "      <td>20.38</td>\n",
       "      <td>77.58</td>\n",
       "      <td>386.1</td>\n",
       "      <td>0.14250</td>\n",
       "      <td>0.28390</td>\n",
       "      <td>0.2414</td>\n",
       "      <td>0.10520</td>\n",
       "      <td>...</td>\n",
       "      <td>14.91</td>\n",
       "      <td>26.50</td>\n",
       "      <td>98.87</td>\n",
       "      <td>567.7</td>\n",
       "      <td>0.2098</td>\n",
       "      <td>0.8663</td>\n",
       "      <td>0.6869</td>\n",
       "      <td>0.2575</td>\n",
       "      <td>0.6638</td>\n",
       "      <td>0.17300</td>\n",
       "    </tr>\n",
       "    <tr>\n",
       "      <th>4</th>\n",
       "      <td>84358402</td>\n",
       "      <td>M</td>\n",
       "      <td>20.29</td>\n",
       "      <td>14.34</td>\n",
       "      <td>135.10</td>\n",
       "      <td>1297.0</td>\n",
       "      <td>0.10030</td>\n",
       "      <td>0.13280</td>\n",
       "      <td>0.1980</td>\n",
       "      <td>0.10430</td>\n",
       "      <td>...</td>\n",
       "      <td>22.54</td>\n",
       "      <td>16.67</td>\n",
       "      <td>152.20</td>\n",
       "      <td>1575.0</td>\n",
       "      <td>0.1374</td>\n",
       "      <td>0.2050</td>\n",
       "      <td>0.4000</td>\n",
       "      <td>0.1625</td>\n",
       "      <td>0.2364</td>\n",
       "      <td>0.07678</td>\n",
       "    </tr>\n",
       "  </tbody>\n",
       "</table>\n",
       "<p>5 rows × 32 columns</p>\n",
       "</div>"
      ],
      "text/plain": [
       "         id diagnosis  radius_mean  texture_mean  perimeter_mean  area_mean  \\\n",
       "0    842302         M        17.99         10.38          122.80     1001.0   \n",
       "1    842517         M        20.57         17.77          132.90     1326.0   \n",
       "2  84300903         M        19.69         21.25          130.00     1203.0   \n",
       "3  84348301         M        11.42         20.38           77.58      386.1   \n",
       "4  84358402         M        20.29         14.34          135.10     1297.0   \n",
       "\n",
       "   smoothness_mean  compactness_mean  concavity_mean  concave points_mean  \\\n",
       "0          0.11840           0.27760          0.3001              0.14710   \n",
       "1          0.08474           0.07864          0.0869              0.07017   \n",
       "2          0.10960           0.15990          0.1974              0.12790   \n",
       "3          0.14250           0.28390          0.2414              0.10520   \n",
       "4          0.10030           0.13280          0.1980              0.10430   \n",
       "\n",
       "   ...  radius_worst  texture_worst  perimeter_worst  area_worst  \\\n",
       "0  ...         25.38          17.33           184.60      2019.0   \n",
       "1  ...         24.99          23.41           158.80      1956.0   \n",
       "2  ...         23.57          25.53           152.50      1709.0   \n",
       "3  ...         14.91          26.50            98.87       567.7   \n",
       "4  ...         22.54          16.67           152.20      1575.0   \n",
       "\n",
       "   smoothness_worst  compactness_worst  concavity_worst  concave points_worst  \\\n",
       "0            0.1622             0.6656           0.7119                0.2654   \n",
       "1            0.1238             0.1866           0.2416                0.1860   \n",
       "2            0.1444             0.4245           0.4504                0.2430   \n",
       "3            0.2098             0.8663           0.6869                0.2575   \n",
       "4            0.1374             0.2050           0.4000                0.1625   \n",
       "\n",
       "   symmetry_worst  fractal_dimension_worst  \n",
       "0          0.4601                  0.11890  \n",
       "1          0.2750                  0.08902  \n",
       "2          0.3613                  0.08758  \n",
       "3          0.6638                  0.17300  \n",
       "4          0.2364                  0.07678  \n",
       "\n",
       "[5 rows x 32 columns]"
      ]
     },
     "execution_count": 44,
     "metadata": {},
     "output_type": "execute_result"
    }
   ],
   "source": [
    "df = pd.read_csv(\"cancerdata.csv\")\n",
    "df.head()"
   ]
  },
  {
   "attachments": {},
   "cell_type": "markdown",
   "metadata": {},
   "source": [
    "Definimos una variable predictiva *Y* categórica que nos dice si el cáncer es benigno o maligno a partir de las variables numéricas *X*."
   ]
  },
  {
   "cell_type": "code",
   "execution_count": 45,
   "metadata": {},
   "outputs": [
    {
     "data": {
      "text/html": [
       "<div>\n",
       "<style scoped>\n",
       "    .dataframe tbody tr th:only-of-type {\n",
       "        vertical-align: middle;\n",
       "    }\n",
       "\n",
       "    .dataframe tbody tr th {\n",
       "        vertical-align: top;\n",
       "    }\n",
       "\n",
       "    .dataframe thead th {\n",
       "        text-align: right;\n",
       "    }\n",
       "</style>\n",
       "<table border=\"1\" class=\"dataframe\">\n",
       "  <thead>\n",
       "    <tr style=\"text-align: right;\">\n",
       "      <th></th>\n",
       "      <th>radius_mean</th>\n",
       "      <th>texture_mean</th>\n",
       "      <th>perimeter_mean</th>\n",
       "      <th>area_mean</th>\n",
       "      <th>smoothness_mean</th>\n",
       "      <th>compactness_mean</th>\n",
       "      <th>concavity_mean</th>\n",
       "      <th>concave points_mean</th>\n",
       "      <th>symmetry_mean</th>\n",
       "      <th>fractal_dimension_mean</th>\n",
       "      <th>...</th>\n",
       "      <th>radius_worst</th>\n",
       "      <th>texture_worst</th>\n",
       "      <th>perimeter_worst</th>\n",
       "      <th>area_worst</th>\n",
       "      <th>smoothness_worst</th>\n",
       "      <th>compactness_worst</th>\n",
       "      <th>concavity_worst</th>\n",
       "      <th>concave points_worst</th>\n",
       "      <th>symmetry_worst</th>\n",
       "      <th>fractal_dimension_worst</th>\n",
       "    </tr>\n",
       "  </thead>\n",
       "  <tbody>\n",
       "    <tr>\n",
       "      <th>0</th>\n",
       "      <td>17.99</td>\n",
       "      <td>10.38</td>\n",
       "      <td>122.80</td>\n",
       "      <td>1001.0</td>\n",
       "      <td>0.11840</td>\n",
       "      <td>0.27760</td>\n",
       "      <td>0.3001</td>\n",
       "      <td>0.14710</td>\n",
       "      <td>0.2419</td>\n",
       "      <td>0.07871</td>\n",
       "      <td>...</td>\n",
       "      <td>25.38</td>\n",
       "      <td>17.33</td>\n",
       "      <td>184.60</td>\n",
       "      <td>2019.0</td>\n",
       "      <td>0.1622</td>\n",
       "      <td>0.6656</td>\n",
       "      <td>0.7119</td>\n",
       "      <td>0.2654</td>\n",
       "      <td>0.4601</td>\n",
       "      <td>0.11890</td>\n",
       "    </tr>\n",
       "    <tr>\n",
       "      <th>1</th>\n",
       "      <td>20.57</td>\n",
       "      <td>17.77</td>\n",
       "      <td>132.90</td>\n",
       "      <td>1326.0</td>\n",
       "      <td>0.08474</td>\n",
       "      <td>0.07864</td>\n",
       "      <td>0.0869</td>\n",
       "      <td>0.07017</td>\n",
       "      <td>0.1812</td>\n",
       "      <td>0.05667</td>\n",
       "      <td>...</td>\n",
       "      <td>24.99</td>\n",
       "      <td>23.41</td>\n",
       "      <td>158.80</td>\n",
       "      <td>1956.0</td>\n",
       "      <td>0.1238</td>\n",
       "      <td>0.1866</td>\n",
       "      <td>0.2416</td>\n",
       "      <td>0.1860</td>\n",
       "      <td>0.2750</td>\n",
       "      <td>0.08902</td>\n",
       "    </tr>\n",
       "    <tr>\n",
       "      <th>2</th>\n",
       "      <td>19.69</td>\n",
       "      <td>21.25</td>\n",
       "      <td>130.00</td>\n",
       "      <td>1203.0</td>\n",
       "      <td>0.10960</td>\n",
       "      <td>0.15990</td>\n",
       "      <td>0.1974</td>\n",
       "      <td>0.12790</td>\n",
       "      <td>0.2069</td>\n",
       "      <td>0.05999</td>\n",
       "      <td>...</td>\n",
       "      <td>23.57</td>\n",
       "      <td>25.53</td>\n",
       "      <td>152.50</td>\n",
       "      <td>1709.0</td>\n",
       "      <td>0.1444</td>\n",
       "      <td>0.4245</td>\n",
       "      <td>0.4504</td>\n",
       "      <td>0.2430</td>\n",
       "      <td>0.3613</td>\n",
       "      <td>0.08758</td>\n",
       "    </tr>\n",
       "    <tr>\n",
       "      <th>3</th>\n",
       "      <td>11.42</td>\n",
       "      <td>20.38</td>\n",
       "      <td>77.58</td>\n",
       "      <td>386.1</td>\n",
       "      <td>0.14250</td>\n",
       "      <td>0.28390</td>\n",
       "      <td>0.2414</td>\n",
       "      <td>0.10520</td>\n",
       "      <td>0.2597</td>\n",
       "      <td>0.09744</td>\n",
       "      <td>...</td>\n",
       "      <td>14.91</td>\n",
       "      <td>26.50</td>\n",
       "      <td>98.87</td>\n",
       "      <td>567.7</td>\n",
       "      <td>0.2098</td>\n",
       "      <td>0.8663</td>\n",
       "      <td>0.6869</td>\n",
       "      <td>0.2575</td>\n",
       "      <td>0.6638</td>\n",
       "      <td>0.17300</td>\n",
       "    </tr>\n",
       "    <tr>\n",
       "      <th>4</th>\n",
       "      <td>20.29</td>\n",
       "      <td>14.34</td>\n",
       "      <td>135.10</td>\n",
       "      <td>1297.0</td>\n",
       "      <td>0.10030</td>\n",
       "      <td>0.13280</td>\n",
       "      <td>0.1980</td>\n",
       "      <td>0.10430</td>\n",
       "      <td>0.1809</td>\n",
       "      <td>0.05883</td>\n",
       "      <td>...</td>\n",
       "      <td>22.54</td>\n",
       "      <td>16.67</td>\n",
       "      <td>152.20</td>\n",
       "      <td>1575.0</td>\n",
       "      <td>0.1374</td>\n",
       "      <td>0.2050</td>\n",
       "      <td>0.4000</td>\n",
       "      <td>0.1625</td>\n",
       "      <td>0.2364</td>\n",
       "      <td>0.07678</td>\n",
       "    </tr>\n",
       "  </tbody>\n",
       "</table>\n",
       "<p>5 rows × 30 columns</p>\n",
       "</div>"
      ],
      "text/plain": [
       "   radius_mean  texture_mean  perimeter_mean  area_mean  smoothness_mean  \\\n",
       "0        17.99         10.38          122.80     1001.0          0.11840   \n",
       "1        20.57         17.77          132.90     1326.0          0.08474   \n",
       "2        19.69         21.25          130.00     1203.0          0.10960   \n",
       "3        11.42         20.38           77.58      386.1          0.14250   \n",
       "4        20.29         14.34          135.10     1297.0          0.10030   \n",
       "\n",
       "   compactness_mean  concavity_mean  concave points_mean  symmetry_mean  \\\n",
       "0           0.27760          0.3001              0.14710         0.2419   \n",
       "1           0.07864          0.0869              0.07017         0.1812   \n",
       "2           0.15990          0.1974              0.12790         0.2069   \n",
       "3           0.28390          0.2414              0.10520         0.2597   \n",
       "4           0.13280          0.1980              0.10430         0.1809   \n",
       "\n",
       "   fractal_dimension_mean  ...  radius_worst  texture_worst  perimeter_worst  \\\n",
       "0                 0.07871  ...         25.38          17.33           184.60   \n",
       "1                 0.05667  ...         24.99          23.41           158.80   \n",
       "2                 0.05999  ...         23.57          25.53           152.50   \n",
       "3                 0.09744  ...         14.91          26.50            98.87   \n",
       "4                 0.05883  ...         22.54          16.67           152.20   \n",
       "\n",
       "   area_worst  smoothness_worst  compactness_worst  concavity_worst  \\\n",
       "0      2019.0            0.1622             0.6656           0.7119   \n",
       "1      1956.0            0.1238             0.1866           0.2416   \n",
       "2      1709.0            0.1444             0.4245           0.4504   \n",
       "3       567.7            0.2098             0.8663           0.6869   \n",
       "4      1575.0            0.1374             0.2050           0.4000   \n",
       "\n",
       "   concave points_worst  symmetry_worst  fractal_dimension_worst  \n",
       "0                0.2654          0.4601                  0.11890  \n",
       "1                0.1860          0.2750                  0.08902  \n",
       "2                0.2430          0.3613                  0.08758  \n",
       "3                0.2575          0.6638                  0.17300  \n",
       "4                0.1625          0.2364                  0.07678  \n",
       "\n",
       "[5 rows x 30 columns]"
      ]
     },
     "execution_count": 45,
     "metadata": {},
     "output_type": "execute_result"
    }
   ],
   "source": [
    "X = df.iloc[:, 2:]\n",
    "Y = df.iloc[:, 1]\n",
    "\n",
    "X.head()"
   ]
  },
  {
   "cell_type": "code",
   "execution_count": 46,
   "metadata": {},
   "outputs": [
    {
     "data": {
      "text/plain": [
       "B    357\n",
       "M    212\n",
       "Name: diagnosis, dtype: int64"
      ]
     },
     "execution_count": 46,
     "metadata": {},
     "output_type": "execute_result"
    }
   ],
   "source": [
    "Y.value_counts()"
   ]
  },
  {
   "attachments": {},
   "cell_type": "markdown",
   "metadata": {},
   "source": [
    "Hay 357 benignos y 212 malignos."
   ]
  },
  {
   "attachments": {},
   "cell_type": "markdown",
   "metadata": {},
   "source": [
    "Ahora creamos la división entre el conjunto de testing y el conjunto de training."
   ]
  },
  {
   "cell_type": "code",
   "execution_count": 49,
   "metadata": {},
   "outputs": [],
   "source": [
    "# Definimos que el conjunto de testing tendrá el 30%; el random state define el nivel de precisión\n",
    "XTrain, XTest, YTrain, YTest = train_test_split(X, Y, test_size = 0.3, random_state = 4)"
   ]
  },
  {
   "attachments": {},
   "cell_type": "markdown",
   "metadata": {},
   "source": [
    "Creamos el modelo de árbol de decisión"
   ]
  },
  {
   "cell_type": "code",
   "execution_count": 50,
   "metadata": {},
   "outputs": [
    {
     "name": "stdout",
     "output_type": "stream",
     "text": [
      "0.9005847953216374\n"
     ]
    }
   ],
   "source": [
    "# Creamos el modelo\n",
    "model = DecisionTreeClassifier()\n",
    "# Ajustamos el modelo al conjunto de training\n",
    "model.fit(XTrain, YTrain)\n",
    "# Pedimos el puntaje del modelo con el conjunto de testing, o sea, la precisión\n",
    "result = model.score(XTest, YTest)\n",
    "print(result)"
   ]
  },
  {
   "attachments": {},
   "cell_type": "markdown",
   "metadata": {},
   "source": [
    "Ahora hacemos la validación cruzada con K Fold"
   ]
  },
  {
   "cell_type": "code",
   "execution_count": 53,
   "metadata": {},
   "outputs": [
    {
     "name": "stdout",
     "output_type": "stream",
     "text": [
      "[0.9122807  0.9122807  0.87719298 0.94736842 0.94736842 0.98245614\n",
      " 0.89473684 0.94736842 0.94736842 0.94642857]\n",
      "\n",
      "0.931484962406015\n"
     ]
    }
   ],
   "source": [
    "model = DecisionTreeClassifier()\n",
    "# Queremos 10 folds\n",
    "kFoldValidation = KFold(10)\n",
    "\n",
    "# Sacamos el promedio de las 10 observaciones\n",
    "results = cross_val_score(model, X, Y, cv = kFoldValidation)\n",
    "print(results, results.mean(), sep = \"\\n\\n\")"
   ]
  }
 ],
 "metadata": {
  "kernelspec": {
   "display_name": "base",
   "language": "python",
   "name": "python3"
  },
  "language_info": {
   "codemirror_mode": {
    "name": "ipython",
    "version": 3
   },
   "file_extension": ".py",
   "mimetype": "text/x-python",
   "name": "python",
   "nbconvert_exporter": "python",
   "pygments_lexer": "ipython3",
   "version": "3.9.13"
  },
  "orig_nbformat": 4,
  "vscode": {
   "interpreter": {
    "hash": "49cb93f377a7abe7414b7b0f21fb3017538004a126cf690fb524202736b7fb92"
   }
  }
 },
 "nbformat": 4,
 "nbformat_minor": 2
}
