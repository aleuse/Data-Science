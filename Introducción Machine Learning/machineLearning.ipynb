{
 "cells": [
  {
   "attachments": {},
   "cell_type": "markdown",
   "metadata": {},
   "source": [
    "# Introducción a Machine Learning"
   ]
  },
  {
   "attachments": {},
   "cell_type": "markdown",
   "metadata": {},
   "source": [
    "## Introducción"
   ]
  },
  {
   "attachments": {},
   "cell_type": "markdown",
   "metadata": {},
   "source": [
    "### ¿Qué es Machine Learning?"
   ]
  },
  {
   "attachments": {},
   "cell_type": "markdown",
   "metadata": {},
   "source": [
    "Machine Learning es la ciencia de utilizar algoritmos para identificar patrones en datos con el fin de resolver un problema de interés. Los modelos aprenden patrones de los *features* (características).<br>\n",
    "![](features.PNG)\n",
    "\n",
    "![](history.jpg)"
   ]
  },
  {
   "attachments": {},
   "cell_type": "markdown",
   "metadata": {},
   "source": [
    "### Terminología"
   ]
  },
  {
   "attachments": {},
   "cell_type": "markdown",
   "metadata": {},
   "source": [
    "- **Data/Datos**: unidades de información o \"hechos\" de observaciones.\n",
    "- **Features/Características**: tipos de información acerca de las observaciones.\n",
    "- **Filas**: observaciones individuales o muestras.\n",
    "- **Columnas** features que describen las observaciones.\n",
    "- **Outlier/Atípico**: punto(s) de datos que se comportan de manera extraña.\n",
    "- **Pre-processing**: preparar los datos para su uso en modelos de ML.\n",
    "- **ETL pipeline**: framework de data science para extraer, transformar y cargar datos.\n",
    "- **Target**: variable de salida que queremos predecir."
   ]
  },
  {
   "attachments": {},
   "cell_type": "markdown",
   "metadata": {},
   "source": [
    "### Tipos de modelos de machine learning"
   ]
  },
  {
   "attachments": {},
   "cell_type": "markdown",
   "metadata": {},
   "source": [
    "#### Aprendizaje supervisado"
   ]
  },
  {
   "attachments": {},
   "cell_type": "markdown",
   "metadata": {},
   "source": [
    "El objetivo objetivo del aprendizaje supervisado es tomar features de entrada y con ello producir un target, predecir una variable que será retornada; pueden ser muchas características pero le salida siempre es una.\n",
    "\n",
    "- **Regresión**: el objetivo es predecir una variable numérica.\n",
    "- **Clasificación**:  el objetivo es predecir una etiqueta.\n",
    "\n",
    "![](supervisedL%7D.PNG)"
   ]
  },
  {
   "attachments": {},
   "cell_type": "markdown",
   "metadata": {},
   "source": [
    "#### Aprendizaje no supervisado"
   ]
  },
  {
   "attachments": {},
   "cell_type": "markdown",
   "metadata": {},
   "source": [
    "El target es desconocido y queremos encontrar estructuras o grupos dentro de los datos para predecir patrones.\n",
    "\n",
    "- **Clustering**: el objetivo es encontrar grupos en los datos.\n",
    "- **Dimensionality reduction**: queremos encontrar qué características o features de los datos son más importantes.\n",
    "\n",
    "![](noSupervisedL.PNG)"
   ]
  },
  {
   "attachments": {},
   "cell_type": "markdown",
   "metadata": {},
   "source": [
    "#### Algoritmos específicos\n",
    "\n",
    "![](algoritmos.PNG)"
   ]
  },
  {
   "attachments": {},
   "cell_type": "markdown",
   "metadata": {},
   "source": [
    "### Algoritmos simples de Machine Learning"
   ]
  },
  {
   "attachments": {},
   "cell_type": "markdown",
   "metadata": {},
   "source": [
    "#### La \"receta\" para aplicar algoritmos de ML"
   ]
  },
  {
   "attachments": {},
   "cell_type": "markdown",
   "metadata": {},
   "source": [
    "1. **Proceso de decisión**: cómo los modelos hacen una predicción o retornan una respuesta, utilizando los parámetros.\n",
    "2. **Función de error/coste**: cómo evaluar si los parámetros en el modelo generan buenas predicciones.\n",
    "3. **Regla de actualización**: cómo mejorar los parámetros para hacer mejores predicciones (usando optimización numérica)."
   ]
  },
  {
   "attachments": {},
   "cell_type": "markdown",
   "metadata": {},
   "source": [
    "**Normalizar datos numéricos**\n",
    "\n",
    "Cuando trabajamos con datos numéricos y usamos modelos de Machine Learning lo habitual es normalizar los datos para tener una estabilidad numérica.\n",
    "\n",
    "1. Calcular el promedio de los datos $\\mu$.\n",
    "2. Calcular la desviación estándar de los datos $\\delta$.\n",
    "3. Para cada punto realizar $$\\tilde{x} = \\frac{x_{i} - \\mu}{\\delta}$$"
   ]
  },
  {
   "attachments": {},
   "cell_type": "markdown",
   "metadata": {},
   "source": [
    "**Preparar los datos para modelos**\n",
    "\n",
    "Generalmente se divide el conjunto de datos en tres:\n",
    "- **Training** (60-80%): datos que usa el modelo para aprender patrones.\n",
    "- **Validation** (0-20%): datos con los que verificamos que el modelo aprende.\n",
    "- **Testing** (0-20%): datos que se apartan para luego revisar si el modelo fue exitoso al predecir."
   ]
  },
  {
   "attachments": {},
   "cell_type": "markdown",
   "metadata": {},
   "source": [
    "### Regresión lineal"
   ]
  },
  {
   "attachments": {},
   "cell_type": "markdown",
   "metadata": {},
   "source": [
    "Una regresión lineal es una forma de predecir un valor numérico. Como su nombre sugiere lo que intentamos es trazar una línea recta que vaya desde el inicio de los puntos hasta el final.\n",
    "\n",
    "![](linearR.PNG)"
   ]
  },
  {
   "attachments": {},
   "cell_type": "markdown",
   "metadata": {},
   "source": [
    "**Proceso de decisión**\n",
    "\n",
    "![](linearR2.PNG)\n",
    "\n",
    "El objetivo es obtener una combinación de pesos *weight* $w_{i}$ y el intercepto *bias* $w_{0}$ que nos permita predecir los valores. El peso es como una hipótesis de qué tan fuerte es la relación entre su respectiva categoría y la predicción; el intertepto es lo que sucede con la predicción cuando X es cero o no existe."
   ]
  },
  {
   "attachments": {},
   "cell_type": "markdown",
   "metadata": {},
   "source": [
    "**Función de coste**"
   ]
  },
  {
   "attachments": {},
   "cell_type": "markdown",
   "metadata": {},
   "source": [
    "![](linearR3.PNG)\n",
    "\n",
    "Utilizamos el método de mínimos cuadrados que busca minimizar la distancia de los valores reales y los valores de la predicción."
   ]
  },
  {
   "attachments": {},
   "cell_type": "markdown",
   "metadata": {},
   "source": [
    "**Regla de actualización**\n",
    "\n",
    "![](linearR4.PNG)\n",
    "\n",
    "Lo que buscamos es minimizar la distancia entre los valores reales y los de la predicción modificando los pesos y el intercepto de la recta de regresión."
   ]
  },
  {
   "attachments": {},
   "cell_type": "markdown",
   "metadata": {},
   "source": [
    "**Rendimiento**\n",
    "\n",
    "Se utilizan el MSE, error cuadrático promedio, y el $R^2$, que nos habla de la correlación entre los valores de entrada y los de salida. Para el $R^2$ queremos un valor cercano a 1 y para el MSE queremos un valor bajo."
   ]
  },
  {
   "attachments": {},
   "cell_type": "markdown",
   "metadata": {},
   "source": [
    "### Regresión logística"
   ]
  },
  {
   "attachments": {},
   "cell_type": "markdown",
   "metadata": {},
   "source": [
    "Una regresión logística es una forma de predecir una clase/etiqueta a través de la mejor recta que separe dos clases diferentes.\n",
    "\n",
    "![](logisticR.PNG)\n",
    "![](logisticR2.PNG)\n",
    "![](logisticR3.PNG)\n",
    "![](logisticR4.PNG)\n",
    "![](logisticR5.PNG)\n",
    "![](logisticR6.PNG)\n",
    "![](logisticR7.PNG)"
   ]
  },
  {
   "attachments": {},
   "cell_type": "markdown",
   "metadata": {},
   "source": [
    "### Árboles de decisión"
   ]
  },
  {
   "attachments": {},
   "cell_type": "markdown",
   "metadata": {},
   "source": [
    "![](arboles.PNG)\n",
    "\n",
    "Un **random forest** es un conjunto de árboles de decisión.\n",
    "\n",
    "![](arboles2.PNG)\n",
    "\n",
    "**Parámetros**\n",
    "\n",
    "![](arboles3.PNG)\n",
    "![](arboles4.PNG)\n",
    "\n",
    "![](arboles5.PNG)"
   ]
  },
  {
   "attachments": {},
   "cell_type": "markdown",
   "metadata": {},
   "source": [
    "### K-Means clustering"
   ]
  },
  {
   "attachments": {},
   "cell_type": "markdown",
   "metadata": {},
   "source": [
    "El objetivo es encontrar cuáles datos están asignados a ciertos grupos\n",
    "![](kmeans.PNG)\n",
    "\n",
    "**Centroide**: el líder o representación de un grupo particular.\n",
    "\n",
    "Una vez se colocan los centroides lo siguiente es determinar la pertenencia de cada punto a un grupo calculando la distancia del punto a cada centroide y pertenecerá al grupo más cercano. \n",
    "\n",
    "Podemos mover los centroides utilizando el promedio de los puntos en un grupo particular y así resultar en nuevos grupos y repetimos el proceso.\n",
    "\n",
    "![](k2.PNG)\n",
    "\n",
    "**Parámetros**\n",
    "\n",
    "**K** se refiere al número de grupos que pensamos que existen en los datos.\n",
    "\n",
    "![](k3.PNG)\n",
    "\n",
    "**Función de coste**\n",
    "\n",
    "![](k4.PNG)\n",
    "\n",
    "**Regla de actualización**\n",
    "\n",
    "![](k5.PNG)\n",
    "\n",
    "**Rendimiento**\n",
    "\n",
    "![](k6.PNG) ![](k7.PNG)\n"
   ]
  },
  {
   "attachments": {},
   "cell_type": "markdown",
   "metadata": {},
   "source": [
    "## Deep Learning"
   ]
  },
  {
   "attachments": {},
   "cell_type": "markdown",
   "metadata": {},
   "source": [
    "### Cómo funcionan las redes neuronales"
   ]
  },
  {
   "attachments": {},
   "cell_type": "markdown",
   "metadata": {},
   "source": [
    "- **Capa de entrada**: la capa de entrada tomas los datos y los usa para alimentar la capa oculta.\n",
    "- **Capa oculta**: representa las operaciones y funciones complejas que nos ayudan a modelar esas preguntas difíciles como clasificar imágenes.\n",
    "- **Capa de salida**: provee la predicción que queremos.\n",
    "\n",
    "Cada uno de estos módulos individuales son considerados nodos o **neuronas**; entre los nodos existe algo llamado conexión la cual indica la fuerza de la relación entre los nodos.\n",
    "\n",
    "Las redes neuronales son usadas usualmente para aprendizaje supervisado.\n",
    "\n",
    "![](nn.PNG)\n",
    "\n",
    "**Ejemplo**\n",
    "\n",
    "![](nn2.PNG)\n",
    "![](nn3.PNG)\n",
    "![](nn4.PNG)\n",
    "![](nn5.PNG)\n",
    "\n",
    "**Capa de entrada conecta a múltiples unidades ocultas**\n",
    "\n",
    "![](nn6.PNG)\n",
    "\n",
    "**Unidades ocultas**\n",
    "\n",
    "Una unidad oculta ejecuta una función en la combinación lineal que recibe; esta función es una **función de activación**.\n",
    "\n",
    "![](nn7.PNG)\n",
    "![](nn8.PNG)\n",
    "![](nn9.PNG)\n",
    "![](nn10.PNG)"
   ]
  },
  {
   "attachments": {},
   "cell_type": "markdown",
   "metadata": {},
   "source": [
    "### Cómo es el entrenamiento de las redes neuronales"
   ]
  },
  {
   "attachments": {},
   "cell_type": "markdown",
   "metadata": {},
   "source": [
    "#### Arquitectura\n",
    "\n",
    "![](rn.PNG)"
   ]
  },
  {
   "attachments": {},
   "cell_type": "markdown",
   "metadata": {},
   "source": [
    "**Deep Feed-Forward DNNs**\n",
    "\n",
    "Utilizan funciones de activación y son buenas resolviendo problemas no lineales complejos."
   ]
  },
  {
   "attachments": {},
   "cell_type": "markdown",
   "metadata": {},
   "source": [
    "**Convolucional CNNs**\n",
    "\n",
    "Usan el operador convolucional, pools y kernels. Son usadas en imágenes y problemas de tipo genómicos."
   ]
  },
  {
   "attachments": {},
   "cell_type": "markdown",
   "metadata": {},
   "source": [
    "**Recurrente RNNs**\n",
    "\n",
    "El objetivo es utilizar una idea de memoria que son neuronas que pueden recordar largas secuencias. Son buenas para información de lenguaje."
   ]
  },
  {
   "attachments": {},
   "cell_type": "markdown",
   "metadata": {},
   "source": [
    "#### La receta para las redes neuronales\n",
    "\n",
    "![](rn1.PNG)\n",
    "\n",
    "**Avance hacia adelante**\n",
    "\n",
    "![](ff.PNG)\n",
    "\n",
    "**Función de coste**\n",
    "\n",
    "**MSE**\n",
    "\n",
    "![](fc.PNG)\n",
    "\n",
    "**Binary Cross-Entropy BCE**\n",
    "\n",
    "![](bce.PNG)\n",
    "\n",
    "**Categorical Binary Cross-Entropy CBCE**\n",
    "\n",
    "![](cbce.PNG)\n",
    "\n",
    "**Backpropagation**\n",
    "\n",
    "![](bp.PNG)\n",
    "![](bp1.PNG)\n"
   ]
  },
  {
   "attachments": {},
   "cell_type": "markdown",
   "metadata": {},
   "source": [
    "### Cómo mejorar las predicciones de redes neuronales"
   ]
  },
  {
   "attachments": {},
   "cell_type": "markdown",
   "metadata": {},
   "source": [
    "**Underfitting**: significa que el modelo realmente no ha aprendido el patrón en el conjunto de entrenamiento para ser capaz de realizar una buena predicción.\n",
    "\n",
    "**Overfitting**: significa que el modelo memorizó los patrones del conjunto de entrenamiento pero realmente no los entiende.\n",
    "\n",
    "**Dropout**: es usado en el proceso de entrenamiento y lo que hace es poner en ceros ciertos nodos durante el entrenamiento.\n",
    "![](rn2.PNG)\n",
    "\n",
    "**Prevenir el overfitting**\n",
    "\n",
    "![](of.PNG)\n"
   ]
  }
 ],
 "metadata": {
  "kernelspec": {
   "display_name": "base",
   "language": "python",
   "name": "python3"
  },
  "language_info": {
   "name": "python",
   "version": "3.9.13 (main, Aug 25 2022, 23:51:50) [MSC v.1916 64 bit (AMD64)]"
  },
  "orig_nbformat": 4,
  "vscode": {
   "interpreter": {
    "hash": "49cb93f377a7abe7414b7b0f21fb3017538004a126cf690fb524202736b7fb92"
   }
  }
 },
 "nbformat": 4,
 "nbformat_minor": 2
}
