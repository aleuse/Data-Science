{
 "cells": [
  {
   "attachments": {},
   "cell_type": "markdown",
   "metadata": {},
   "source": [
    "# Fundamentos de Álgebra Lineal"
   ]
  },
  {
   "attachments": {},
   "cell_type": "markdown",
   "metadata": {},
   "source": [
    "Liberías"
   ]
  },
  {
   "cell_type": "code",
   "execution_count": 1,
   "metadata": {},
   "outputs": [],
   "source": [
    "import numpy as np\n",
    "import matplotlib.pyplot as plt\n",
    "from mpl_toolkits import mplot3d"
   ]
  },
  {
   "attachments": {},
   "cell_type": "markdown",
   "metadata": {},
   "source": [
    "## Conceptos básicos\n",
    "\n",
    "![](tensor.png)"
   ]
  },
  {
   "attachments": {},
   "cell_type": "markdown",
   "metadata": {},
   "source": [
    "**Escalar**\n",
    "\n",
    "En matemáticas un escalar no es más que un número pero en Python un escalar puede ser un entero, un punto flotante, incluso un texto, el elemento nada o un booleano."
   ]
  },
  {
   "cell_type": "code",
   "execution_count": 1,
   "metadata": {},
   "outputs": [
    {
     "name": "stdout",
     "output_type": "stream",
     "text": [
      "<class 'bool'>\n"
     ]
    }
   ],
   "source": [
    "escalarPython = True\n",
    "print(type(escalarPython))"
   ]
  },
  {
   "attachments": {},
   "cell_type": "markdown",
   "metadata": {},
   "source": [
    "**Vector**\n",
    "\n",
    "Un vector es un conjunto de números, un arreglo que nos da un grado de libertad."
   ]
  },
  {
   "cell_type": "code",
   "execution_count": 3,
   "metadata": {},
   "outputs": [
    {
     "data": {
      "text/plain": [
       "array([1, 2, 3, 4])"
      ]
     },
     "execution_count": 3,
     "metadata": {},
     "output_type": "execute_result"
    }
   ],
   "source": [
    "vector = np.array([1, 2, 3, 4])\n",
    "vector"
   ]
  },
  {
   "attachments": {},
   "cell_type": "markdown",
   "metadata": {},
   "source": [
    "**Matriz**\n",
    "\n",
    "Una matriz es la combinación de varios vectores y nos da dos grados de libertad."
   ]
  },
  {
   "cell_type": "code",
   "execution_count": 4,
   "metadata": {},
   "outputs": [
    {
     "data": {
      "text/plain": [
       "array([[1, 2, 3],\n",
       "       [4, 5, 6],\n",
       "       [7, 8, 9]])"
      ]
     },
     "execution_count": 4,
     "metadata": {},
     "output_type": "execute_result"
    }
   ],
   "source": [
    "matriz = np.array([\n",
    "    [1, 2, 3],\n",
    "    [4, 5, 6],\n",
    "    [7, 8, 9]\n",
    "])\n",
    "matriz"
   ]
  },
  {
   "attachments": {},
   "cell_type": "markdown",
   "metadata": {},
   "source": [
    "**Tensor**\n",
    "\n",
    "Un tensor es la combinación de varias matrices y nos da tres o más grados de libertad. Si una matriz podría ser la representación de una imagen entonces un tensor sería la representación de la imagen a lo largo del tiempo, o sea, un video."
   ]
  },
  {
   "cell_type": "code",
   "execution_count": 5,
   "metadata": {},
   "outputs": [
    {
     "data": {
      "text/plain": [
       "array([[[ 1,  2,  3],\n",
       "        [ 4,  5,  6],\n",
       "        [ 7,  8,  9]],\n",
       "\n",
       "       [[10, 11, 12],\n",
       "        [13, 14, 15],\n",
       "        [16, 17, 18]],\n",
       "\n",
       "       [[19, 20, 21],\n",
       "        [22, 23, 24],\n",
       "        [25, 26, 27]]])"
      ]
     },
     "execution_count": 5,
     "metadata": {},
     "output_type": "execute_result"
    }
   ],
   "source": [
    "tensor = np.array([\n",
    "    [\n",
    "        [1, 2, 3],\n",
    "        [4, 5, 6],\n",
    "        [7, 8, 9]\n",
    "    ],\n",
    "    [\n",
    "        [10, 11, 12],\n",
    "        [13, 14, 15],\n",
    "        [16, 17, 18]\n",
    "    ],\n",
    "    [\n",
    "        [19, 20, 21],\n",
    "        [22, 23, 24],\n",
    "        [25, 26, 27]\n",
    "    ]\n",
    "])\n",
    "tensor"
   ]
  },
  {
   "attachments": {},
   "cell_type": "markdown",
   "metadata": {},
   "source": [
    "Lo que representamos dentro de los vectores, matrices o tensores depende de quien esté generando la información.\n",
    "\n",
    "Por ejemplo, supongamos que los elementos contenidos en nuestro tensor corresponden a una imagen así que vamos a graficarla."
   ]
  },
  {
   "cell_type": "code",
   "execution_count": 7,
   "metadata": {},
   "outputs": [
    {
     "data": {
      "image/png": "[encoded data removed]",
      "text/plain": [
       "<Figure size 640x480 with 1 Axes>"
      ]
     },
     "metadata": {},
     "output_type": "display_data"
    }
   ],
   "source": [
    "%matplotlib inline\n",
    "# Mostar el tensor utilizando la interpolación del más cercano \n",
    "plt.imshow(tensor, interpolation = \"nearest\")\n",
    "plt.show()"
   ]
  },
  {
   "attachments": {},
   "cell_type": "markdown",
   "metadata": {},
   "source": [
    "Vemos que tenemos varios tonos de negro y esto es porque nuestros valores del tensor representan valores RGB."
   ]
  },
  {
   "cell_type": "code",
   "execution_count": 8,
   "metadata": {},
   "outputs": [
    {
     "data": {
      "image/png": "[encoded data removed]",
      "text/plain": [
       "<Figure size 640x480 with 1 Axes>"
      ]
     },
     "metadata": {},
     "output_type": "display_data"
    }
   ],
   "source": [
    "tensor2 = np.array([\n",
    "    [\n",
    "        [0, 0, 0],\n",
    "        [0, 0, 0],\n",
    "        [0, 0, 0]\n",
    "    ],\n",
    "    [\n",
    "        [128, 128, 128],\n",
    "        [128, 128, 128],\n",
    "        [128, 128, 128]\n",
    "    ],\n",
    "    [\n",
    "        [255, 255, 255],\n",
    "        [255, 255, 255],\n",
    "        [255, 255, 255]\n",
    "    ]\n",
    "])\n",
    "plt.imshow(tensor2, interpolation = \"nearest\")\n",
    "plt.show()"
   ]
  },
  {
   "attachments": {},
   "cell_type": "markdown",
   "metadata": {},
   "source": [
    "### Dimensiones"
   ]
  },
  {
   "attachments": {},
   "cell_type": "markdown",
   "metadata": {},
   "source": [
    "Los escalares no tienen el atributo *shape*."
   ]
  },
  {
   "cell_type": "code",
   "execution_count": 10,
   "metadata": {},
   "outputs": [
    {
     "ename": "AttributeError",
     "evalue": "'float' object has no attribute 'shape'",
     "output_type": "error",
     "traceback": [
      "\u001b[1;31m---------------------------------------------------------------------------\u001b[0m",
      "\u001b[1;31mAttributeError\u001b[0m                            Traceback (most recent call last)",
      "Cell \u001b[1;32mIn[10], line 2\u001b[0m\n\u001b[0;32m      1\u001b[0m escalar \u001b[39m=\u001b[39m \u001b[39m5.123\u001b[39m\n\u001b[1;32m----> 2\u001b[0m escalar\u001b[39m.\u001b[39;49mshape\n",
      "\u001b[1;31mAttributeError\u001b[0m: 'float' object has no attribute 'shape'"
     ]
    }
   ],
   "source": [
    "escalar = 5.123\n",
    "escalar.shape"
   ]
  },
  {
   "attachments": {},
   "cell_type": "markdown",
   "metadata": {},
   "source": [
    "Cuando usamos *shape* con un vector nos devuelve (x,) donde x nos indica la cantidad de elementos (en el sentido de una fila) que tiene el vector."
   ]
  },
  {
   "cell_type": "code",
   "execution_count": 9,
   "metadata": {},
   "outputs": [
    {
     "data": {
      "text/plain": [
       "(4,)"
      ]
     },
     "execution_count": 9,
     "metadata": {},
     "output_type": "execute_result"
    }
   ],
   "source": [
    "vector.shape"
   ]
  },
  {
   "attachments": {},
   "cell_type": "markdown",
   "metadata": {},
   "source": [
    "Cuando utilizamos *shape* con una matriz nos devuelve la cantidad de filas que tiene la matriz y la cantidad de columnas."
   ]
  },
  {
   "cell_type": "code",
   "execution_count": 12,
   "metadata": {},
   "outputs": [
    {
     "data": {
      "text/plain": [
       "(3, 3)"
      ]
     },
     "execution_count": 12,
     "metadata": {},
     "output_type": "execute_result"
    }
   ],
   "source": [
    "matriz.shape"
   ]
  },
  {
   "attachments": {},
   "cell_type": "markdown",
   "metadata": {},
   "source": [
    "Con un tensor *shape* nos regresa la cantidad de matrices que hay en el tensor, el número de filas de las matrices y el número de columnas de las matrices."
   ]
  },
  {
   "cell_type": "markdown",
   "metadata": {},
   "source": []
  },
  {
   "cell_type": "code",
   "execution_count": 13,
   "metadata": {},
   "outputs": [
    {
     "data": {
      "text/plain": [
       "(3, 3, 3)"
      ]
     },
     "execution_count": 13,
     "metadata": {},
     "output_type": "execute_result"
    }
   ],
   "source": [
    "tensor.shape"
   ]
  },
  {
   "attachments": {},
   "cell_type": "markdown",
   "metadata": {},
   "source": [
    "Utilizando *size* podemos saber la cantidad de elementos que contiene un tensor, matriz, etc."
   ]
  },
  {
   "cell_type": "code",
   "execution_count": 14,
   "metadata": {},
   "outputs": [
    {
     "data": {
      "text/plain": [
       "27"
      ]
     },
     "execution_count": 14,
     "metadata": {},
     "output_type": "execute_result"
    }
   ],
   "source": [
    "tensor.size"
   ]
  },
  {
   "attachments": {},
   "cell_type": "markdown",
   "metadata": {},
   "source": [
    "### Transposición"
   ]
  },
  {
   "attachments": {},
   "cell_type": "markdown",
   "metadata": {},
   "source": [
    "Transponer un vector o una matriz es intercambiar las filas por las columnas. Podemos hacer esto utilizando *.T*"
   ]
  },
  {
   "attachments": {},
   "cell_type": "markdown",
   "metadata": {},
   "source": [
    "Como los escalares no tienen ni filas ni columnas entonces no podemos obtener su transpuesta."
   ]
  },
  {
   "cell_type": "code",
   "execution_count": 15,
   "metadata": {},
   "outputs": [
    {
     "ename": "AttributeError",
     "evalue": "'float' object has no attribute 'T'",
     "output_type": "error",
     "traceback": [
      "\u001b[1;31m---------------------------------------------------------------------------\u001b[0m",
      "\u001b[1;31mAttributeError\u001b[0m                            Traceback (most recent call last)",
      "Cell \u001b[1;32mIn[15], line 1\u001b[0m\n\u001b[1;32m----> 1\u001b[0m escalarT \u001b[39m=\u001b[39m escalar\u001b[39m.\u001b[39;49mT\n",
      "\u001b[1;31mAttributeError\u001b[0m: 'float' object has no attribute 'T'"
     ]
    }
   ],
   "source": [
    "escalarT = escalar.T"
   ]
  },
  {
   "attachments": {},
   "cell_type": "markdown",
   "metadata": {},
   "source": [
    "Para los vectores no vemos un cambio pero realmente pasamos de tener un vector fila a tener un vector columna."
   ]
  },
  {
   "cell_type": "code",
   "execution_count": 20,
   "metadata": {},
   "outputs": [
    {
     "data": {
      "text/plain": [
       "array([1, 2, 3, 4])"
      ]
     },
     "execution_count": 20,
     "metadata": {},
     "output_type": "execute_result"
    }
   ],
   "source": [
    "vectorT = vector.T\n",
    "vectorT"
   ]
  },
  {
   "cell_type": "code",
   "execution_count": 21,
   "metadata": {},
   "outputs": [
    {
     "data": {
      "text/plain": [
       "array([[1, 4, 7],\n",
       "       [2, 5, 8],\n",
       "       [3, 6, 9]])"
      ]
     },
     "execution_count": 21,
     "metadata": {},
     "output_type": "execute_result"
    }
   ],
   "source": [
    "matrizT = matriz.T\n",
    "matrizT"
   ]
  },
  {
   "attachments": {},
   "cell_type": "markdown",
   "metadata": {},
   "source": [
    "Para los tensores también tenemos la transposición y lo que hace es pasar de mXnXp a pXnXm"
   ]
  },
  {
   "cell_type": "code",
   "execution_count": 22,
   "metadata": {},
   "outputs": [
    {
     "data": {
      "text/plain": [
       "array([[[ 1, 10, 19],\n",
       "        [ 4, 13, 22],\n",
       "        [ 7, 16, 25]],\n",
       "\n",
       "       [[ 2, 11, 20],\n",
       "        [ 5, 14, 23],\n",
       "        [ 8, 17, 26]],\n",
       "\n",
       "       [[ 3, 12, 21],\n",
       "        [ 6, 15, 24],\n",
       "        [ 9, 18, 27]]])"
      ]
     },
     "execution_count": 22,
     "metadata": {},
     "output_type": "execute_result"
    }
   ],
   "source": [
    "tensorT = tensor.T\n",
    "tensorT"
   ]
  },
  {
   "attachments": {},
   "cell_type": "markdown",
   "metadata": {},
   "source": [
    "La transpuesta de la transpuesta es el objeto original."
   ]
  },
  {
   "cell_type": "code",
   "execution_count": 23,
   "metadata": {},
   "outputs": [
    {
     "data": {
      "text/plain": [
       "array([[1, 2, 3],\n",
       "       [4, 5, 6],\n",
       "       [7, 8, 9]])"
      ]
     },
     "execution_count": 23,
     "metadata": {},
     "output_type": "execute_result"
    }
   ],
   "source": [
    "matrizTT = matrizT.T\n",
    "matrizTT"
   ]
  },
  {
   "attachments": {},
   "cell_type": "markdown",
   "metadata": {},
   "source": [
    "### Suma de matrices"
   ]
  },
  {
   "attachments": {},
   "cell_type": "markdown",
   "metadata": {},
   "source": [
    "La suma de matrices está definida cuando dos objetos tienen la misma dimensión y lo que se hace es sumar elemento con elemento."
   ]
  },
  {
   "cell_type": "code",
   "execution_count": 25,
   "metadata": {},
   "outputs": [
    {
     "data": {
      "text/plain": [
       "array([[ 2,  6, 10],\n",
       "       [ 6, 10, 14],\n",
       "       [10, 14, 18]])"
      ]
     },
     "execution_count": 25,
     "metadata": {},
     "output_type": "execute_result"
    }
   ],
   "source": [
    "matriz + matrizT"
   ]
  },
  {
   "attachments": {},
   "cell_type": "markdown",
   "metadata": {},
   "source": [
    "#### Suma de matrices con escalares"
   ]
  },
  {
   "attachments": {},
   "cell_type": "markdown",
   "metadata": {},
   "source": [
    "Al sumar una matriz con un escalar el resultado que obtendremos será la matriz donde a cada elemento se le sumó el escalar."
   ]
  },
  {
   "cell_type": "code",
   "execution_count": 26,
   "metadata": {},
   "outputs": [
    {
     "data": {
      "text/plain": [
       "array([[ 6.123,  7.123,  8.123],\n",
       "       [ 9.123, 10.123, 11.123],\n",
       "       [12.123, 13.123, 14.123]])"
      ]
     },
     "execution_count": 26,
     "metadata": {},
     "output_type": "execute_result"
    }
   ],
   "source": [
    "matriz + escalar"
   ]
  },
  {
   "attachments": {},
   "cell_type": "markdown",
   "metadata": {},
   "source": [
    "#### Suma de matrices y vectores con broadcasting"
   ]
  },
  {
   "attachments": {},
   "cell_type": "markdown",
   "metadata": {},
   "source": [
    "El proceso de broadcasting consiste en extender la matriz o el vector de menor tamaño para que se ajuste al del mayor tamaño."
   ]
  },
  {
   "cell_type": "code",
   "execution_count": 5,
   "metadata": {},
   "outputs": [],
   "source": [
    "escalar = 5.679\n",
    "vector = np.array([2, 3])\n",
    "matriz = np.array([\n",
    "    [1, 2],\n",
    "    [3, 4],\n",
    "    [5, 6]\n",
    "])"
   ]
  },
  {
   "attachments": {},
   "cell_type": "markdown",
   "metadata": {},
   "source": [
    "Si tratamos de sumar un vector fila de 3 elementos con una matriz de 3 filas y 2 columnas no es posible hacer el broadcasting  ya que no hay forma de hacer un emparejamiento."
   ]
  },
  {
   "cell_type": "code",
   "execution_count": 30,
   "metadata": {},
   "outputs": [
    {
     "ename": "ValueError",
     "evalue": "operands could not be broadcast together with shapes (3,2) (3,) ",
     "output_type": "error",
     "traceback": [
      "\u001b[1;31m---------------------------------------------------------------------------\u001b[0m",
      "\u001b[1;31mValueError\u001b[0m                                Traceback (most recent call last)",
      "Cell \u001b[1;32mIn[30], line 1\u001b[0m\n\u001b[1;32m----> 1\u001b[0m matriz \u001b[39m+\u001b[39;49m vector\n",
      "\u001b[1;31mValueError\u001b[0m: operands could not be broadcast together with shapes (3,2) (3,) "
     ]
    }
   ],
   "source": [
    "matriz + vector"
   ]
  },
  {
   "attachments": {},
   "cell_type": "markdown",
   "metadata": {},
   "source": [
    "Por otro lado, si utilizamos la matriz transpuesta que pasa a tener 2 filas y 3 columnas entonces es posible hacer un emparejamiento donde el vector de 3 elementos se repite para sumar cada elemento a la matriz para sus 2 filas.\n",
    "\n",
    "![](broadcasting.PNG)"
   ]
  },
  {
   "cell_type": "code",
   "execution_count": 29,
   "metadata": {},
   "outputs": [
    {
     "data": {
      "text/plain": [
       "array([[ 4,  7, 10],\n",
       "       [ 5,  8, 11]])"
      ]
     },
     "execution_count": 29,
     "metadata": {},
     "output_type": "execute_result"
    }
   ],
   "source": [
    "matriz.T + vector"
   ]
  },
  {
   "attachments": {},
   "cell_type": "markdown",
   "metadata": {},
   "source": [
    "Cuando sumamos una matriz con un escalar estamos haciendo este mismo procedimiento."
   ]
  },
  {
   "attachments": {},
   "cell_type": "markdown",
   "metadata": {},
   "source": [
    "## Operaciones con matrices"
   ]
  },
  {
   "attachments": {},
   "cell_type": "markdown",
   "metadata": {},
   "source": [
    "### Producto punto entre matriz y vector"
   ]
  },
  {
   "cell_type": "code",
   "execution_count": 8,
   "metadata": {},
   "outputs": [
    {
     "data": {
      "text/plain": [
       "array([ 8, 18, 28])"
      ]
     },
     "execution_count": 8,
     "metadata": {},
     "output_type": "execute_result"
    }
   ],
   "source": [
    "matriz.dot(vector.T)"
   ]
  },
  {
   "attachments": {},
   "cell_type": "markdown",
   "metadata": {},
   "source": [
    "### Producto punto entre dos matrices"
   ]
  },
  {
   "cell_type": "code",
   "execution_count": 9,
   "metadata": {},
   "outputs": [
    {
     "data": {
      "text/plain": [
       "array([[ 45,  56],\n",
       "       [ 99, 125],\n",
       "       [153, 194],\n",
       "       [207, 263]])"
      ]
     },
     "execution_count": 9,
     "metadata": {},
     "output_type": "execute_result"
    }
   ],
   "source": [
    "A = np.array([\n",
    "    [1, 2, 3],\n",
    "    [4, 5, 6],\n",
    "    [7, 8, 9],\n",
    "    [10, 11, 12]\n",
    "])\n",
    "B = np.array([\n",
    "    [2, 3],\n",
    "    [5, 7],\n",
    "    [11, 13]\n",
    "])\n",
    "np.dot(A, B)"
   ]
  },
  {
   "attachments": {},
   "cell_type": "markdown",
   "metadata": {},
   "source": [
    "### Propiedades de la multiplicación de matrices"
   ]
  },
  {
   "attachments": {},
   "cell_type": "markdown",
   "metadata": {},
   "source": [
    "**Asociativa**: AxBxC = Ax(BxC) = (AxB)xC\n",
    "\n",
    "**Distributiva**: Ax(B+C) = AxB + AxC\n",
    "\n",
    "**Conmutativa**: NO es conmutativa, o sea, AxB != BxA (para vectores sí es conmutativa)"
   ]
  },
  {
   "cell_type": "code",
   "execution_count": 11,
   "metadata": {},
   "outputs": [],
   "source": [
    "A = np.array([\n",
    "    [2, 3],\n",
    "    [5, 7],\n",
    "    [11, 13]\n",
    "    ])\n",
    "B = np.array([\n",
    "    [1, 3],\n",
    "    [2, 1]\n",
    "    ])\n",
    "C = np.array([\n",
    "    [3, 1],\n",
    "    [4, 2]\n",
    "    ])"
   ]
  },
  {
   "cell_type": "code",
   "execution_count": 12,
   "metadata": {},
   "outputs": [
    {
     "name": "stdout",
     "output_type": "stream",
     "text": [
      "[[ 60  26]\n",
      " [145  63]\n",
      " [295 129]]\n",
      "[[ 60  26]\n",
      " [145  63]\n",
      " [295 129]]\n"
     ]
    }
   ],
   "source": [
    "# Asociativa\n",
    "print(A.dot(B.dot(C)))\n",
    "print(A.dot(B).dot(C))"
   ]
  },
  {
   "cell_type": "code",
   "execution_count": 13,
   "metadata": {},
   "outputs": [
    {
     "name": "stdout",
     "output_type": "stream",
     "text": [
      "[[ 26  17]\n",
      " [ 62  41]\n",
      " [122  83]]\n",
      "[[ 26  17]\n",
      " [ 62  41]\n",
      " [122  83]]\n"
     ]
    }
   ],
   "source": [
    "# Distributiva\n",
    "print(A.dot(B + C))\n",
    "print(A.dot(B) + A.dot(C))"
   ]
  },
  {
   "cell_type": "code",
   "execution_count": 14,
   "metadata": {},
   "outputs": [
    {
     "name": "stdout",
     "output_type": "stream",
     "text": [
      "[[ 8  9]\n",
      " [19 22]\n",
      " [37 46]]\n"
     ]
    },
    {
     "ename": "ValueError",
     "evalue": "shapes (2,2) and (3,2) not aligned: 2 (dim 1) != 3 (dim 0)",
     "output_type": "error",
     "traceback": [
      "\u001b[1;31m---------------------------------------------------------------------------\u001b[0m",
      "\u001b[1;31mValueError\u001b[0m                                Traceback (most recent call last)",
      "Cell \u001b[1;32mIn[14], line 3\u001b[0m\n\u001b[0;32m      1\u001b[0m \u001b[39m# Conmutativa\u001b[39;00m\n\u001b[0;32m      2\u001b[0m \u001b[39mprint\u001b[39m(A\u001b[39m.\u001b[39mdot(B))\n\u001b[1;32m----> 3\u001b[0m \u001b[39mprint\u001b[39m(B\u001b[39m.\u001b[39;49mdot(A))\n",
      "\u001b[1;31mValueError\u001b[0m: shapes (2,2) and (3,2) not aligned: 2 (dim 1) != 3 (dim 0)"
     ]
    }
   ],
   "source": [
    "# Conmutativa\n",
    "print(A.dot(B))\n",
    "print(B.dot(A))"
   ]
  },
  {
   "attachments": {},
   "cell_type": "markdown",
   "metadata": {},
   "source": [
    "### Transposición de un producto de matrices"
   ]
  },
  {
   "attachments": {},
   "cell_type": "markdown",
   "metadata": {},
   "source": [
    "(AxB)T = BTxAT"
   ]
  },
  {
   "cell_type": "code",
   "execution_count": 15,
   "metadata": {},
   "outputs": [
    {
     "data": {
      "text/plain": [
       "array([[ 8, 19, 37],\n",
       "       [ 9, 22, 46]])"
      ]
     },
     "execution_count": 15,
     "metadata": {},
     "output_type": "execute_result"
    }
   ],
   "source": [
    "(A.dot(B)).T"
   ]
  },
  {
   "cell_type": "code",
   "execution_count": 16,
   "metadata": {},
   "outputs": [
    {
     "data": {
      "text/plain": [
       "array([[ 8, 19, 37],\n",
       "       [ 9, 22, 46]])"
      ]
     },
     "execution_count": 16,
     "metadata": {},
     "output_type": "execute_result"
    }
   ],
   "source": [
    "B.T.dot(A.T)"
   ]
  },
  {
   "cell_type": "code",
   "execution_count": 18,
   "metadata": {},
   "outputs": [
    {
     "name": "stdout",
     "output_type": "stream",
     "text": [
      "[[ 2  3]\n",
      " [ 5  7]\n",
      " [11 13]]\n",
      "[[ 2  3]\n",
      " [ 5  7]\n",
      " [11 13]]\n"
     ]
    }
   ],
   "source": [
    "print(A)\n",
    "print(A.T.T)"
   ]
  },
  {
   "attachments": {},
   "cell_type": "markdown",
   "metadata": {},
   "source": [
    "### Matrices especiales"
   ]
  },
  {
   "attachments": {},
   "cell_type": "markdown",
   "metadata": {},
   "source": [
    "#### Matriz identidad"
   ]
  },
  {
   "attachments": {},
   "cell_type": "markdown",
   "metadata": {},
   "source": [
    "Es el elemento neutro de la multiplicación de matrices, es decir, cualquier matriz multiplicada por la matriz identidad resulta la misma matriz. Para generar una matriz identidad de nxn en python se usa *np.eye(n)*."
   ]
  },
  {
   "cell_type": "code",
   "execution_count": 3,
   "metadata": {},
   "outputs": [
    {
     "data": {
      "text/plain": [
       "array([[1., 0., 0.],\n",
       "       [0., 1., 0.],\n",
       "       [0., 0., 1.]])"
      ]
     },
     "execution_count": 3,
     "metadata": {},
     "output_type": "execute_result"
    }
   ],
   "source": [
    "A = np.eye(3)\n",
    "A"
   ]
  },
  {
   "attachments": {},
   "cell_type": "markdown",
   "metadata": {},
   "source": [
    "#### Matriz inversa"
   ]
  },
  {
   "attachments": {},
   "cell_type": "markdown",
   "metadata": {},
   "source": [
    "Una matriz es inversa de otra cuando la multiplicación de las matrices resulta en una matriz identidad (elemento inverso de la multiplicación de matrices). Utilizamos *np.linalg.inv(A)*.\n",
    "\n",
    "$A A^{-1} = I$"
   ]
  },
  {
   "cell_type": "code",
   "execution_count": 4,
   "metadata": {},
   "outputs": [
    {
     "data": {
      "text/plain": [
       "array([[1., 0., 0.],\n",
       "       [0., 1., 0.],\n",
       "       [0., 0., 1.]])"
      ]
     },
     "execution_count": 4,
     "metadata": {},
     "output_type": "execute_result"
    }
   ],
   "source": [
    "inversaA = np.linalg.inv(A)\n",
    "inversaA"
   ]
  },
  {
   "attachments": {},
   "cell_type": "markdown",
   "metadata": {},
   "source": [
    "#### Matriz singular"
   ]
  },
  {
   "attachments": {},
   "cell_type": "markdown",
   "metadata": {},
   "source": [
    "Una matriz es singular cuando no tiene matriz inversa. Todas las matrices que no son cuadradas son singulares. Si el determinante de la matriz es diferente de cero, tiene inversa; si el determinante de la matriz es cero, no tiene inversa."
   ]
  },
  {
   "cell_type": "code",
   "execution_count": 5,
   "metadata": {},
   "outputs": [
    {
     "ename": "LinAlgError",
     "evalue": "Singular matrix",
     "output_type": "error",
     "traceback": [
      "\u001b[1;31m---------------------------------------------------------------------------\u001b[0m",
      "\u001b[1;31mLinAlgError\u001b[0m                               Traceback (most recent call last)",
      "Cell \u001b[1;32mIn[5], line 5\u001b[0m\n\u001b[0;32m      1\u001b[0m singular \u001b[39m=\u001b[39m np\u001b[39m.\u001b[39marray([\n\u001b[0;32m      2\u001b[0m     [\u001b[39m1\u001b[39m, \u001b[39m1\u001b[39m],\n\u001b[0;32m      3\u001b[0m     [\u001b[39m1\u001b[39m, \u001b[39m1\u001b[39m]\n\u001b[0;32m      4\u001b[0m ])\n\u001b[1;32m----> 5\u001b[0m np\u001b[39m.\u001b[39;49mlinalg\u001b[39m.\u001b[39;49minv(singular)\n",
      "File \u001b[1;32m<__array_function__ internals>:180\u001b[0m, in \u001b[0;36minv\u001b[1;34m(*args, **kwargs)\u001b[0m\n",
      "File \u001b[1;32md:\\ANACONDA3\\ENVS\\AL\\lib\\site-packages\\numpy\\linalg\\linalg.py:552\u001b[0m, in \u001b[0;36minv\u001b[1;34m(a)\u001b[0m\n\u001b[0;32m    550\u001b[0m signature \u001b[39m=\u001b[39m \u001b[39m'\u001b[39m\u001b[39mD->D\u001b[39m\u001b[39m'\u001b[39m \u001b[39mif\u001b[39;00m isComplexType(t) \u001b[39melse\u001b[39;00m \u001b[39m'\u001b[39m\u001b[39md->d\u001b[39m\u001b[39m'\u001b[39m\n\u001b[0;32m    551\u001b[0m extobj \u001b[39m=\u001b[39m get_linalg_error_extobj(_raise_linalgerror_singular)\n\u001b[1;32m--> 552\u001b[0m ainv \u001b[39m=\u001b[39m _umath_linalg\u001b[39m.\u001b[39;49minv(a, signature\u001b[39m=\u001b[39;49msignature, extobj\u001b[39m=\u001b[39;49mextobj)\n\u001b[0;32m    553\u001b[0m \u001b[39mreturn\u001b[39;00m wrap(ainv\u001b[39m.\u001b[39mastype(result_t, copy\u001b[39m=\u001b[39m\u001b[39mFalse\u001b[39;00m))\n",
      "File \u001b[1;32md:\\ANACONDA3\\ENVS\\AL\\lib\\site-packages\\numpy\\linalg\\linalg.py:89\u001b[0m, in \u001b[0;36m_raise_linalgerror_singular\u001b[1;34m(err, flag)\u001b[0m\n\u001b[0;32m     88\u001b[0m \u001b[39mdef\u001b[39;00m \u001b[39m_raise_linalgerror_singular\u001b[39m(err, flag):\n\u001b[1;32m---> 89\u001b[0m     \u001b[39mraise\u001b[39;00m LinAlgError(\u001b[39m\"\u001b[39m\u001b[39mSingular matrix\u001b[39m\u001b[39m\"\u001b[39m)\n",
      "\u001b[1;31mLinAlgError\u001b[0m: Singular matrix"
     ]
    }
   ],
   "source": [
    "singular = np.array([\n",
    "    [1, 1],\n",
    "    [1, 1]\n",
    "])\n",
    "np.linalg.inv(singular)"
   ]
  },
  {
   "attachments": {},
   "cell_type": "markdown",
   "metadata": {},
   "source": [
    "### Aplicación de la inversa de una matriz para resolver un sistema de ecuaciones lineales\n",
    "\n",
    "![](despeje.jpg)"
   ]
  },
  {
   "cell_type": "code",
   "execution_count": 7,
   "metadata": {},
   "outputs": [
    {
     "data": {
      "text/plain": [
       "array([[0.],\n",
       "       [1.]])"
      ]
     },
     "execution_count": 7,
     "metadata": {},
     "output_type": "execute_result"
    }
   ],
   "source": [
    "A = np.array([\n",
    "    [3, 1],\n",
    "    [2, 1]\n",
    "    ])\n",
    "b = np.array([\n",
    "    [1],\n",
    "    [1]\n",
    "    ])\n",
    "\n",
    "# Utilizamos esto para que redondee a 0 cuando el resultado es muuuy cercano a este\n",
    "np.set_printoptions(suppress = True)\n",
    "\n",
    "# Sacamos la inversa de A\n",
    "inversaA = np.linalg.inv(A)\n",
    "# Hacemos el despeje\n",
    "x = inversaA.dot(b)\n",
    "x"
   ]
  },
  {
   "attachments": {},
   "cell_type": "markdown",
   "metadata": {},
   "source": [
    "### Sistemas de ecuaciones lineales"
   ]
  },
  {
   "attachments": {},
   "cell_type": "markdown",
   "metadata": {},
   "source": [
    "Los sistemas de ecuaciones lineales pueden no tener solución, tener una única solución o tener infinitas soluciones.\n",
    "\n",
    "- Incompatible o sobredeterminado: cuando no hay soluciones para el sistema. Hay más ecuaciones que incógnitas.\n",
    "- Compatible determinado: cuando el sistema tiene una única solución. Hay tantas ecuaciones como incógnitas (convergen en un sólo punto).\n",
    "- Compatible indeterminado: cuando hay infinitas soluciones. Hay menos ecuaciones que incógnitas.\n",
    "\n",
    "![](Sistema%2Bcompatible%2Bdeterminado%2BSistema%2Bcompatible%2Bindeterminado.jpg)"
   ]
  },
  {
   "cell_type": "code",
   "execution_count": 2,
   "metadata": {},
   "outputs": [
    {
     "data": {
      "image/png": "[encoded data removed]",
      "text/plain": [
       "<Figure size 640x480 with 1 Axes>"
      ]
     },
     "metadata": {},
     "output_type": "display_data"
    }
   ],
   "source": [
    "# Sistema  de Ecuaciones Indeterminado\n",
    "X = np.linspace(-10,10,100)\n",
    "\n",
    "Y1 = 3*X + 5\n",
    "Y2 = (9*X + 15)/3\n",
    "Y3 = ( X + (5/3))*3\n",
    "\n",
    "plt.figure()\n",
    "plt.title('Sistema de Ecuaciones Lineales')\n",
    "plt.plot(X,Y1,'r--', label=r'$ 3\\alpha + 5$', marker='<')\n",
    "plt.plot(X,Y2,'b--', label=r'$ \\frac{9\\alpha + 15}{3} $', marker='*')\n",
    "plt.plot(X,Y3,'g--', label=r'$ (\\alpha + \\frac{5}{3})\\cdot 3 $', marker='.')\n",
    "plt.legend()\n",
    "plt.xlim(-8,8)\n",
    "plt.ylim(-8,8)\n",
    "plt.text(1,-6,'Sistema Indeterminado :\\n Existen Infinitas Soluciones')\n",
    "\n",
    "plt.axvline(x=0, color='grey')\n",
    "plt.axhline(y=0, color='grey')\n",
    "plt.show()"
   ]
  },
  {
   "cell_type": "code",
   "execution_count": 3,
   "metadata": {},
   "outputs": [
    {
     "data": {
      "image/png": "[encoded data removed]",
      "text/plain": [
       "<Figure size 640x480 with 1 Axes>"
      ]
     },
     "metadata": {},
     "output_type": "display_data"
    }
   ],
   "source": [
    "# Sistema  de Ecuaciones Incompatible\n",
    "X = np.linspace(-10,10,100)\n",
    "\n",
    "Y1 = 3*X + 5\n",
    "Y2 = -X + 3\n",
    "Y3 = 2*X + 1\n",
    "\n",
    "plt.figure()\n",
    "plt.title('Sistema de Ecuaciones Lineales')\n",
    "plt.plot(X,Y1, label=r'$ 3\\alpha + 5$')\n",
    "plt.plot(X,Y2, label=r'$ -\\alpha + 3 $')\n",
    "plt.plot(X,Y3, label=r'$ 2*\\alpha + 1$')\n",
    "plt.legend()\n",
    "plt.xlim(-8,8)\n",
    "plt.ylim(-8,8)\n",
    "plt.text(1,-6,'Sistema Incompatible :\\n No existe Solución')\n",
    "\n",
    "plt.axvline(x=0, color='grey')\n",
    "plt.axhline(y=0, color='grey')\n",
    "plt.show()"
   ]
  },
  {
   "attachments": {},
   "cell_type": "markdown",
   "metadata": {},
   "source": [
    "### Graficar vectores"
   ]
  },
  {
   "cell_type": "code",
   "execution_count": 14,
   "metadata": {},
   "outputs": [
    {
     "data": {
      "image/png": "[encoded data removed]",
      "text/plain": [
       "<Figure size 640x480 with 1 Axes>"
      ]
     },
     "metadata": {},
     "output_type": "display_data"
    }
   ],
   "source": [
    "vector1 = np.array([2, 5])\n",
    "vector2 = np.array([3, 2])\n",
    "\n",
    "# Definimos la función para graficar vectores\n",
    "def graficarVectores(vectores, colores, alpha = 1):\n",
    "    # Creamos una figura\n",
    "    plt.figure()\n",
    "    # Agregamos el eje vertical\n",
    "    plt.axvline(x = 0, color = \"grey\", zorder = 0)\n",
    "    # Agregamos el eje horizontal\n",
    "    plt.axhline(y = 0, color = \"grey\", zorder = 0)\n",
    "    \n",
    "    # Recorremos cada vector uno por uno\n",
    "    for i in range(len(vectores)):\n",
    "        # Concatenamos el vector con el valor (0, 0) ya que es el origen\n",
    "        x = np.concatenate([\n",
    "            [0, 0],\n",
    "            vectores[i]\n",
    "        ])\n",
    "        # Graficamos el vector\n",
    "        plt.quiver([x[0]],\n",
    "                  [x[1]],\n",
    "                  [x[2]],\n",
    "                  [x[3]],\n",
    "                  # Ángulos definimos como xy al igual que la unidad de escala\n",
    "                  angles = 'xy', scale_units = 'xy', scale = 1, \n",
    "                  color = colores[i], alpha = alpha)\n",
    "        \n",
    "graficarVectores([vector1, vector2], [\"orange\", \"blue\"])\n",
    "plt.xlim(-1, 8)\n",
    "plt.ylim(-1, 8)\n",
    "plt.show()"
   ]
  },
  {
   "attachments": {},
   "cell_type": "markdown",
   "metadata": {},
   "source": [
    "### Combinaciones lineales"
   ]
  },
  {
   "attachments": {},
   "cell_type": "markdown",
   "metadata": {},
   "source": [
    "La combinación lineal de vectores nos dice que podemos representar un vector en un espacio $R^n$ como la combinación de dos o más vectores multiplicados por un escalar."
   ]
  },
  {
   "cell_type": "code",
   "execution_count": 7,
   "metadata": {},
   "outputs": [
    {
     "data": {
      "image/png": "[encoded data removed]",
      "text/plain": [
       "<Figure size 640x480 with 1 Axes>"
      ]
     },
     "metadata": {},
     "output_type": "display_data"
    }
   ],
   "source": [
    "vector1 = np.array([2, 5])\n",
    "vector2 = np.array([3, 2])\n",
    "\n",
    "combLineal = (1 / 2 * vector1) + (1 / 2 * vector2)\n",
    "graficarVectores([vector1, vector2, combLineal], [\"orange\", \"blue\", \"red\"])\n",
    "plt.xlim(-1, 8)\n",
    "plt.ylim(-1, 8)\n",
    "plt.show()"
   ]
  },
  {
   "attachments": {},
   "cell_type": "markdown",
   "metadata": {},
   "source": [
    "### Espacios y subespacios"
   ]
  },
  {
   "attachments": {},
   "cell_type": "markdown",
   "metadata": {},
   "source": [
    "El espacio euclidiano o espacio vectorial es el conjunto de n-adas ordenadas, tambien conocido por espacio n-dimencional y se denota por $R^n$.\n",
    "\n",
    "- **R1**: espacio unidimensional, línea recta real.\n",
    "- **R2**: espacio bidimensional, pares ordenados.\n",
    "- **R3**: espacio tridimensional, terna ordenadas.\n",
    "- **Hiperplano**: una dimension menos respecto al espacio donde estamos trabajando: si trabajamos en R3 un hiperplano es R2, si trabajamos en R2 un hiperplano es la recta."
   ]
  },
  {
   "cell_type": "code",
   "execution_count": 9,
   "metadata": {},
   "outputs": [
    {
     "data": {
      "image/png": "[encoded data removed]",
      "text/plain": [
       "<Figure size 640x480 with 1 Axes>"
      ]
     },
     "metadata": {},
     "output_type": "display_data"
    }
   ],
   "source": [
    "v1 = np.array([1, 0, 0])\n",
    "v2 = np.array([2, -3, 0])\n",
    "\n",
    "fig = plt.figure()\n",
    "ax = plt.axes(projection = '3d')\n",
    "\n",
    "for a in range (-10, 10):\n",
    "  for b in range (-10, 10):\n",
    "    ax.scatter(v1[0] * a + v2[0] * b,\n",
    "               v1[1] * a + v2[1] * b,\n",
    "               v1[2] * a + v2[2] * b,\n",
    "               marker = '.',\n",
    "               color = \"orange\")\n",
    "plt.show()"
   ]
  },
  {
   "attachments": {},
   "cell_type": "markdown",
   "metadata": {},
   "source": [
    "### Vectores linealmente independientes"
   ]
  },
  {
   "attachments": {},
   "cell_type": "markdown",
   "metadata": {},
   "source": [
    "El espacio $R^n$ puede ser generado a partir de $n$ vectores de dimensión $n$ y uno de los requisitos para que esto ocurra es que dichos vectores deben ser linealmente independientes. Se dice que dos vectores $v_1$ y $v_2$ son linealmente independientes si su combinación lineal es siempre diferente de cero. Por ejemplo, tenemos en $R^2$ dos vectores $v_1$ y $v_2$ y estos serán linealmente independientes si $$a * v_1 + b * v_2 \\neq 0$$ para todo valor de $a$ y $b$."
   ]
  },
  {
   "cell_type": "code",
   "execution_count": 13,
   "metadata": {},
   "outputs": [
    {
     "name": "stdout",
     "output_type": "stream",
     "text": [
      "[0 0]\n"
     ]
    },
    {
     "data": {
      "image/png": "[encoded data removed]",
      "text/plain": [
       "<Figure size 640x480 with 1 Axes>"
      ]
     },
     "metadata": {},
     "output_type": "display_data"
    }
   ],
   "source": [
    "# Ejemplo de vectores linealmente independientes\n",
    "vector1 = np.array([1, 1])\n",
    "vector2 = np.array([-1, -1])\n",
    "\n",
    "print(vector1 + vector2)\n",
    "graficarVectores([vector1, vector2], [\"orange\", \"blue\"])\n",
    "\n",
    "plt.xlim(-2, 2)\n",
    "plt.ylim(-2, 2)\n",
    "plt.show()"
   ]
  },
  {
   "attachments": {},
   "cell_type": "markdown",
   "metadata": {},
   "source": [
    "### Validar que una matriz tenga inversa"
   ]
  },
  {
   "attachments": {},
   "cell_type": "markdown",
   "metadata": {},
   "source": [
    "Para que un Sistema de Ecuaciones Lineales tenga solución, la matriz A que lo representa no tiene que tener vectores linealmente dependientes. Es decir, no tienen que haber filas y columnas que puedan ser escritas como combinación de otras filas o columnas; podemos utilizar los vectores y valores propios para esto."
   ]
  },
  {
   "cell_type": "code",
   "execution_count": 15,
   "metadata": {},
   "outputs": [
    {
     "name": "stdout",
     "output_type": "stream",
     "text": [
      "[ 1.61803399 -0.61803399  0.          1.        ]\n",
      "[[0 1 1 0]]\n"
     ]
    }
   ],
   "source": [
    "# Matriz que representa el sistema de ecuaciones\n",
    "A = np.array([\n",
    "    [0, 1, 0, 0],\n",
    "    [0, 0, 1, 0],\n",
    "    [0, 1, 1, 0],\n",
    "    [1, 0, 0, 1]\n",
    "])\n",
    "\n",
    "# Sacamos los valores y vectores propios\n",
    "valoresPropios, vectoresPropios = np.linalg.eig(A.T)\n",
    "print(valoresPropios)\n",
    "print(A[valoresPropios == 0, :])"
   ]
  },
  {
   "attachments": {},
   "cell_type": "markdown",
   "metadata": {},
   "source": [
    "Vemos que la tercera fila es linealmente dependiente ya que podríamos escribirla como la suma de la fila uno y la fila 2."
   ]
  },
  {
   "attachments": {},
   "cell_type": "markdown",
   "metadata": {},
   "source": [
    "### Norma\n"
   ]
  },
  {
   "attachments": {},
   "cell_type": "markdown",
   "metadata": {},
   "source": [
    "La norma es la longitud de un vector; mide la distancia del vector hasta el origen. La norma de un vector es mayor o igual a 0 y solo cuando el vector es 0 entonces su norma también lo será. Por otro lado, v1 + v2 = v3 → norma(v1) + norma(v2) >= norma(v3). norma(av) = a norma(v).\n",
    "\n",
    "$\\sqrt{(x_1 - x_2)^2 + (y_1 - y_2)^2}$"
   ]
  },
  {
   "cell_type": "code",
   "execution_count": 3,
   "metadata": {},
   "outputs": [
    {
     "name": "stdout",
     "output_type": "stream",
     "text": [
      "7.280109889280518\n",
      "5.830951894845301\n"
     ]
    }
   ],
   "source": [
    "vector1 = np.array([2, 7])\n",
    "vector2 = np.array([3, 5])\n",
    "print(np.linalg.norm(vector1))\n",
    "print(np.linalg.norm(vector2))"
   ]
  },
  {
   "attachments": {},
   "cell_type": "markdown",
   "metadata": {},
   "source": [
    "### Tipos de norma"
   ]
  },
  {
   "attachments": {},
   "cell_type": "markdown",
   "metadata": {},
   "source": [
    "La norma se usa en Machine Learning para encontrar errores y se le suele denotar por la letra $L$."
   ]
  },
  {
   "attachments": {},
   "cell_type": "markdown",
   "metadata": {},
   "source": [
    "- **$L_0$**: devuelve la cantidad de elementos del vector diferentes a 0.\n",
    "- **$L_1$**: devuelve la suma de los valores absolutos de los elementos del vector.\n",
    "- **$L_2$**: devuelve la magnitud (distancia euclidiana) o longitud del vector desde el origen.\n",
    "- **$(L_{2})^2$**: devuelve la magnitud (distancia euclidiana) al cuadrado; es más fácil de hacer ya que es el producto punto de un vector por sí mismo.\n",
    "- **$L_\\infty$**: devuelve el valor absoluto más grande del vector."
   ]
  },
  {
   "cell_type": "code",
   "execution_count": 5,
   "metadata": {},
   "outputs": [
    {
     "name": "stdout",
     "output_type": "stream",
     "text": [
      "2.0\n",
      "9.0\n",
      "7.280109889280518\n",
      "7.280109889280518\n",
      "53.0\n",
      "53\n",
      "7.0\n"
     ]
    }
   ],
   "source": [
    "# ord corresponde a el orden de la norma\n",
    "print(np.linalg.norm(vector1, ord = 0))\n",
    "print(np.linalg.norm(vector1, ord = 1))\n",
    "print(np.linalg.norm(vector1))\n",
    "print(np.linalg.norm(vector1, ord = 2))\n",
    "print(np.linalg.norm(vector1, ord = 2) ** 2)\n",
    "print(vector1.T.dot(vector1))\n",
    "print(np.linalg.norm(vector1, ord = np.Inf))"
   ]
  },
  {
   "attachments": {},
   "cell_type": "markdown",
   "metadata": {},
   "source": [
    "### Producto punto en función de la norma"
   ]
  },
  {
   "attachments": {},
   "cell_type": "markdown",
   "metadata": {},
   "source": [
    "El producto punto de dos vectores es numéricamente igual a la multiplicación de las normas (de orden 2) de estos vectores por el coseno que forman: $$v_1 * v_2 = L_2(v_1)* L_2(v_2) * \\cos(\\alpha)$$"
   ]
  },
  {
   "cell_type": "code",
   "execution_count": 6,
   "metadata": {},
   "outputs": [
    {
     "data": {
      "text/plain": [
       "9"
      ]
     },
     "execution_count": 6,
     "metadata": {},
     "output_type": "execute_result"
    }
   ],
   "source": [
    "vector1 = np.array([0, 3])\n",
    "vector2 = np.array([3, 3])\n",
    "\n",
    "vector1.T.dot(vector2)"
   ]
  },
  {
   "cell_type": "code",
   "execution_count": 7,
   "metadata": {},
   "outputs": [
    {
     "data": {
      "text/plain": [
       "9.0"
      ]
     },
     "execution_count": 7,
     "metadata": {},
     "output_type": "execute_result"
    }
   ],
   "source": [
    "norma1 = np.linalg.norm(vector1)\n",
    "norma2 = np.linalg.norm(vector2)\n",
    "\n",
    "# np.cos() solo acepta radianes así que podemos pasar de grados a radianes con np.deg2rad()\n",
    "norma1 * norma2 * np.cos(np.deg2rad(45))"
   ]
  },
  {
   "attachments": {},
   "cell_type": "markdown",
   "metadata": {},
   "source": [
    "#### ¿Por qué nos interesa conocer el ángulo entre dos vectores?\n",
    "\n",
    "En Machine Learning se utiliza la similitud coseno: entre más pequeño sea el ángulo entre dos vectores más similares son."
   ]
  },
  {
   "attachments": {},
   "cell_type": "markdown",
   "metadata": {},
   "source": [
    "### Matriz diagonal"
   ]
  },
  {
   "attachments": {},
   "cell_type": "markdown",
   "metadata": {},
   "source": [
    "Una matriz diagonal es aquella que solo tiene números en su diagonal y el resto son ceros. Al multiplicar una matriz diagonal por un vector lo que se está haciendo es una ponderación de los elementos del vector."
   ]
  },
  {
   "cell_type": "code",
   "execution_count": 2,
   "metadata": {},
   "outputs": [
    {
     "name": "stdout",
     "output_type": "stream",
     "text": [
      "[[1 0 0 0 0]\n",
      " [0 2 0 0 0]\n",
      " [0 0 3 0 0]\n",
      " [0 0 0 4 0]\n",
      " [0 0 0 0 5]]\n",
      "[1 2 3 4 5]\n"
     ]
    }
   ],
   "source": [
    "matrizDiagonal = np.diag([1, 2, 3, 4, 5])\n",
    "vector = np.array([1, 1, 1, 1, 1])\n",
    "print(matrizDiagonal)\n",
    "print(matrizDiagonal.dot(vector.T))"
   ]
  },
  {
   "attachments": {},
   "cell_type": "markdown",
   "metadata": {},
   "source": [
    "Calcular la inversa de una matriz diagonal es tan fácil como crear otra matriz diagonal donde sus elementos estén invertidos respecto a la original, o sea, $1 / x$"
   ]
  },
  {
   "cell_type": "code",
   "execution_count": 3,
   "metadata": {},
   "outputs": [
    {
     "data": {
      "text/plain": [
       "array([[ 1.        ,  0.        ,  0.        ,  0.        ,  0.        ],\n",
       "       [ 0.        ,  0.5       ,  0.        ,  0.        ,  0.        ],\n",
       "       [ 0.        ,  0.        ,  0.33333333,  0.        ,  0.        ],\n",
       "       [-0.        , -0.        , -0.        ,  0.25      , -0.        ],\n",
       "       [ 0.        ,  0.        ,  0.        ,  0.        ,  0.2       ]])"
      ]
     },
     "execution_count": 3,
     "metadata": {},
     "output_type": "execute_result"
    }
   ],
   "source": [
    "np.linalg.inv(matrizDiagonal)"
   ]
  },
  {
   "attachments": {},
   "cell_type": "markdown",
   "metadata": {},
   "source": [
    "### Matriz simétrica"
   ]
  },
  {
   "attachments": {},
   "cell_type": "markdown",
   "metadata": {},
   "source": [
    "Una matriz simétrica es aquella que al realizar su transpuesta el resultado es la misma matriz. Cumplen que siendo $A$ y $B$ matrices simétricas entonces $(A * B) ^ T = B * A$"
   ]
  },
  {
   "cell_type": "code",
   "execution_count": 7,
   "metadata": {},
   "outputs": [
    {
     "name": "stdout",
     "output_type": "stream",
     "text": [
      "[[ 1  2  3]\n",
      " [ 2 -1  7]\n",
      " [ 3  7 11]]\n",
      "\n",
      "[[ 1  2  3]\n",
      " [ 2 -1  7]\n",
      " [ 3  7 11]]\n"
     ]
    }
   ],
   "source": [
    "matrizSimetrica = np.array([\n",
    "    [1, 2, 3],\n",
    "    [2, -1, 7],\n",
    "    [3, 7, 11]\n",
    "])\n",
    "print(matrizSimetrica, matrizSimetrica.T, sep = \"\\n\\n\")"
   ]
  },
  {
   "attachments": {},
   "cell_type": "markdown",
   "metadata": {},
   "source": [
    "### Vectores ortogonales"
   ]
  },
  {
   "attachments": {},
   "cell_type": "markdown",
   "metadata": {},
   "source": [
    "**Un vector por sí mismo no puede ser ortogonal ya que debe hacer referencia a otro valor**.\n",
    "\n",
    "Ser ortogonal significa que el ángulo que se forma entre dos vectores es de $90^\\degree$."
   ]
  },
  {
   "cell_type": "code",
   "execution_count": 10,
   "metadata": {},
   "outputs": [
    {
     "data": {
      "image/png": "[encoded data removed]",
      "text/plain": [
       "<Figure size 640x480 with 1 Axes>"
      ]
     },
     "metadata": {},
     "output_type": "display_data"
    }
   ],
   "source": [
    "A = np.array([0, 0, 2, 2])\n",
    "B = np.array([0, 0, 2, -2])\n",
    "\n",
    "plt.quiver([A[0], B[0]],\n",
    "          [A[1], B[1]],\n",
    "          [A[2], B[2]],\n",
    "          [A[3], B[3]],\n",
    "           angles = 'xy', scale_units = 'xy', \n",
    "           scale = 1,\n",
    "          )\n",
    "plt.xlim(-2,4)\n",
    "plt.ylim(-3,3)\n",
    "\n",
    "plt.show() "
   ]
  },
  {
   "attachments": {},
   "cell_type": "markdown",
   "metadata": {},
   "source": [
    "Si el producto punto de dos vectores es 0 entonces son ortogonales."
   ]
  },
  {
   "cell_type": "code",
   "execution_count": 11,
   "metadata": {},
   "outputs": [
    {
     "name": "stdout",
     "output_type": "stream",
     "text": [
      "0\n"
     ]
    }
   ],
   "source": [
    "\n",
    "v1 = np.array([2, 2])\n",
    "v2 = np.array([2, -2])\n",
    "\n",
    "print(v1.dot(v2.T)) # Si es igual a 0 es porque tienen 90 grados."
   ]
  },
  {
   "attachments": {},
   "cell_type": "markdown",
   "metadata": {},
   "source": [
    "El máximo número de vectores ortogonales entre sí está dado por la dimensión del espacio en el que estamos trabajando."
   ]
  },
  {
   "attachments": {},
   "cell_type": "markdown",
   "metadata": {},
   "source": [
    "### Vector ortonormal"
   ]
  },
  {
   "attachments": {},
   "cell_type": "markdown",
   "metadata": {},
   "source": [
    "Es un vector ortogonal cuya norma es igual a 1."
   ]
  },
  {
   "cell_type": "code",
   "execution_count": 12,
   "metadata": {},
   "outputs": [
    {
     "name": "stdout",
     "output_type": "stream",
     "text": [
      "0.9999999999999999\n"
     ]
    }
   ],
   "source": [
    "vectorOrtonormal = v1 * (1 /np.linalg.norm(v1))\n",
    "print(np.linalg.norm(vectorOrtonormal))"
   ]
  },
  {
   "attachments": {},
   "cell_type": "markdown",
   "metadata": {},
   "source": [
    "### Matriz ortogonal"
   ]
  },
  {
   "attachments": {},
   "cell_type": "markdown",
   "metadata": {},
   "source": [
    "Una matriz es ortogonal cuando todas sus filas son mutuamente ortonormales y todas sus columnas son mutuamente ortonormales.\n",
    "Así mismo, una matriz ortogonal es una matriz cuadrada cuya matriz inversa coincide con su matriz transpuesta.\n",
    "$A^T * A = A * A^T = I$; $A^T = A^{-1}$"
   ]
  },
  {
   "attachments": {},
   "cell_type": "markdown",
   "metadata": {},
   "source": [
    "### Traza"
   ]
  },
  {
   "attachments": {},
   "cell_type": "markdown",
   "metadata": {},
   "source": [
    "La traza se define como la suma de los elementos de la diagonal principal. Tiene la propiedad de no cambiar ante un cambio de base."
   ]
  },
  {
   "cell_type": "code",
   "execution_count": 13,
   "metadata": {},
   "outputs": [
    {
     "name": "stdout",
     "output_type": "stream",
     "text": [
      "15\n"
     ]
    }
   ],
   "source": [
    "matriz = np.array([\n",
    "    [1, 2, 3],\n",
    "    [4, 5, 6],\n",
    "    [7, 8, 9]\n",
    "])\n",
    "\n",
    "traza = np.trace(matriz)\n",
    "print(traza)"
   ]
  },
  {
   "attachments": {},
   "cell_type": "markdown",
   "metadata": {},
   "source": [
    "### Determinante"
   ]
  },
  {
   "attachments": {},
   "cell_type": "markdown",
   "metadata": {},
   "source": [
    "Es un valor numérico que nos da información de la transformación que produce una matriz en su espacio. En el caso de un plano nos dice cómo varían las áreas en el plano.\n",
    "\n",
    "El valor absoluto del determinante está relacionado con la ampliación de ese espacio al aplicar la matriz.\n",
    "\n",
    "Si un determinante es negativa nos indica que la trasformación rotó el espacio $180^\\degree$, si fuese positiva nos indica que no rota o que rota $360^\\degree$"
   ]
  },
  {
   "cell_type": "code",
   "execution_count": 16,
   "metadata": {},
   "outputs": [
    {
     "data": {
      "image/png": "[encoded data removed]",
      "text/plain": [
       "<Figure size 640x480 with 1 Axes>"
      ]
     },
     "metadata": {},
     "output_type": "display_data"
    }
   ],
   "source": [
    "vector1 = np.array([0, 1])\n",
    "vector2 = np.array([1, 0])\n",
    "\n",
    "graficarVectores([vector1, vector2], [\"orange\", \"blue\"])\n",
    "plt.xlim(-0.25, 2)\n",
    "plt.ylim(-0.25, 2)\n",
    "plt.show()\n"
   ]
  },
  {
   "attachments": {},
   "cell_type": "markdown",
   "metadata": {},
   "source": [
    "Si por ejemplo utilizamos la siguiente matriz sin cambiar los vectores originales lo que esperamos es que se duplique la longitud de los vectores."
   ]
  },
  {
   "cell_type": "code",
   "execution_count": 18,
   "metadata": {},
   "outputs": [
    {
     "data": {
      "image/png": "[encoded data removed]",
      "text/plain": [
       "<Figure size 640x480 with 1 Axes>"
      ]
     },
     "metadata": {},
     "output_type": "display_data"
    }
   ],
   "source": [
    "A = np.array([\n",
    "    [2, 0],\n",
    "    [0, 2]\n",
    "])\n",
    "\n",
    "vector1Transformado = A.dot(vector1)\n",
    "vector2Transformado = A.dot(vector2)\n",
    "\n",
    "graficarVectores([vector1, vector2, vector1Transformado, vector2Transformado], [\"orange\", \"blue\", \"red\", \"purple\"])\n",
    "plt.xlim(-0.25, 3)\n",
    "plt.ylim(-0.25, 3)\n",
    "plt.show()"
   ]
  },
  {
   "cell_type": "code",
   "execution_count": 19,
   "metadata": {},
   "outputs": [
    {
     "data": {
      "text/plain": [
       "4.0"
      ]
     },
     "execution_count": 19,
     "metadata": {},
     "output_type": "execute_result"
    }
   ],
   "source": [
    "determinanteA = np.linalg.det(A)\n",
    "determinanteA"
   ]
  },
  {
   "cell_type": "code",
   "execution_count": 21,
   "metadata": {},
   "outputs": [
    {
     "data": {
      "image/png": "[encoded data removed]",
      "text/plain": [
       "<Figure size 640x480 with 1 Axes>"
      ]
     },
     "metadata": {},
     "output_type": "display_data"
    }
   ],
   "source": [
    "A = np.array([\n",
    "    [-2, 0],\n",
    "    [0, 2]\n",
    "])\n",
    "\n",
    "vector1Transformado = A.dot(vector1)\n",
    "vector2Transformado = A.dot(vector2)\n",
    "\n",
    "graficarVectores([vector1, vector2, vector1Transformado, vector2Transformado], [\"orange\", \"blue\", \"red\", \"purple\"])\n",
    "plt.xlim(-3, 3)\n",
    "plt.ylim(-0.25, 3)\n",
    "plt.show()"
   ]
  },
  {
   "cell_type": "code",
   "execution_count": 22,
   "metadata": {},
   "outputs": [
    {
     "data": {
      "text/plain": [
       "-4.0"
      ]
     },
     "execution_count": 22,
     "metadata": {},
     "output_type": "execute_result"
    }
   ],
   "source": [
    "determinanteA = np.linalg.det(A)\n",
    "determinanteA"
   ]
  }
 ],
 "metadata": {
  "kernelspec": {
   "display_name": "AL",
   "language": "python",
   "name": "python3"
  },
  "language_info": {
   "codemirror_mode": {
    "name": "ipython",
    "version": 3
   },
   "file_extension": ".py",
   "mimetype": "text/x-python",
   "name": "python",
   "nbconvert_exporter": "python",
   "pygments_lexer": "ipython3",
   "version": "3.9.15"
  },
  "orig_nbformat": 4,
  "vscode": {
   "interpreter": {
    "hash": "add125248b3a7ec1041073789fdf1df845537eeecdb3150fdd9e7a2df9ede157"
   }
  }
 },
 "nbformat": 4,
 "nbformat_minor": 2
}
